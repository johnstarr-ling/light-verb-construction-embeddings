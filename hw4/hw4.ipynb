{
 "cells": [
  {
   "cell_type": "markdown",
   "metadata": {},
   "source": [
    "# HW4\n",
    "\n",
    "Hi!\n",
    "\n",
    "In this notebook, I create multiple embedding representations for the phrasal verb data found [here](https://github.com/johnstarr-ling/light-verb-construction-embeddings/tree/main/data), and then train various SVM classifiers using these representations.\n",
    "\n",
    "The kinds of embeddings that I currently use are:\n",
    "1. pre-trained Word2Vec word embeddings (300d, trained on Google News Corpus)\n",
    "2. pre-trained Word2Vec word embeddings (300d, trained on Google News Corpus), with phrasal verb as one compositional embedding (mean pooling)\n",
    "3. pre-trained GLoVe word embeddings (300d, trained on Wikipedia 2014 + Gigaword 5 corpora)\n",
    "4. pre-trained GLoVe word embeddings (300d, trained on Wikipedia 2014 + Gigaword 5 corpora), with phrasal verb as one compositional embedding (mean pooling)\n",
    "5. [InferSent](https://github.com/facebookresearch/InferSent) sentence embeddings\n",
    "\n",
    "Embedding representations that I expect to use in the future include:\n",
    "1. BERT\n",
    "\n",
    "__NOTE ON RUNNING THIS NOTEBOOK:__ This notebook requires the following files to be in the same directory for a successful run:\n",
    "1. [models.py](https://github.com/facebookresearch/InferSent/blob/main/models.py) file from InferSent\n",
    "2. [a pretrained GLoVe embedding .txt file](https://nlp.stanford.edu/projects/glove/)"
   ]
  },
  {
   "cell_type": "markdown",
   "metadata": {},
   "source": [
    "## Data Preparation"
   ]
  },
  {
   "cell_type": "code",
   "execution_count": 1,
   "metadata": {},
   "outputs": [],
   "source": [
    "import numpy as np\n",
    "import pandas as pd\n",
    "import torch "
   ]
  },
  {
   "cell_type": "code",
   "execution_count": 2,
   "metadata": {},
   "outputs": [],
   "source": [
    "# import stuff\n",
    "%load_ext autoreload\n",
    "%autoreload 2\n",
    "%matplotlib inline\n",
    "\n",
    "from random import randint"
   ]
  },
  {
   "cell_type": "markdown",
   "metadata": {},
   "source": [
    "We'll load in our phrasal verb data:"
   ]
  },
  {
   "cell_type": "code",
   "execution_count": 3,
   "metadata": {},
   "outputs": [],
   "source": [
    "data = pd.read_csv('data/pvc_data.csv')"
   ]
  },
  {
   "cell_type": "code",
   "execution_count": 4,
   "metadata": {},
   "outputs": [
    {
     "data": {
      "text/html": [
       "<div>\n",
       "<style scoped>\n",
       "    .dataframe tbody tr th:only-of-type {\n",
       "        vertical-align: middle;\n",
       "    }\n",
       "\n",
       "    .dataframe tbody tr th {\n",
       "        vertical-align: top;\n",
       "    }\n",
       "\n",
       "    .dataframe thead th {\n",
       "        text-align: right;\n",
       "    }\n",
       "</style>\n",
       "<table border=\"1\" class=\"dataframe\">\n",
       "  <thead>\n",
       "    <tr style=\"text-align: right;\">\n",
       "      <th></th>\n",
       "      <th>pvc_lemmas</th>\n",
       "      <th>file_path</th>\n",
       "      <th>row</th>\n",
       "      <th>is_phrasal</th>\n",
       "      <th>annotator_agreement_percentage</th>\n",
       "      <th>verb_idx</th>\n",
       "      <th>sents</th>\n",
       "    </tr>\n",
       "  </thead>\n",
       "  <tbody>\n",
       "    <tr>\n",
       "      <th>0</th>\n",
       "      <td>['take', 'on']</td>\n",
       "      <td>B/BN/BNN.xml</td>\n",
       "      <td>291</td>\n",
       "      <td>True</td>\n",
       "      <td>1.0000</td>\n",
       "      <td>['12', '13']</td>\n",
       "      <td>['At', 'about', 'the', 'same', 'time', 'the', ...</td>\n",
       "    </tr>\n",
       "    <tr>\n",
       "      <th>1</th>\n",
       "      <td>['give', 'in']</td>\n",
       "      <td>B/B1/B1E.xml</td>\n",
       "      <td>670</td>\n",
       "      <td>False</td>\n",
       "      <td>0.7051</td>\n",
       "      <td>['15', '16']</td>\n",
       "      <td>['Production', 'is', 'centred', 'in', 'the', '...</td>\n",
       "    </tr>\n",
       "    <tr>\n",
       "      <th>2</th>\n",
       "      <td>['take', 'after']</td>\n",
       "      <td>K/K3/K3E.xml</td>\n",
       "      <td>56</td>\n",
       "      <td>False</td>\n",
       "      <td>0.6733</td>\n",
       "      <td>['21', '22']</td>\n",
       "      <td>['By', 'Echo', 'reporter', 'CORONATION', 'Stre...</td>\n",
       "    </tr>\n",
       "    <tr>\n",
       "      <th>3</th>\n",
       "      <td>['get', 'out']</td>\n",
       "      <td>C/CK/CK9.xml</td>\n",
       "      <td>1654</td>\n",
       "      <td>True</td>\n",
       "      <td>1.0000</td>\n",
       "      <td>['19', '20']</td>\n",
       "      <td>['Mrs', 'Aggie', ',', 'I', 'do', 'want', 'to',...</td>\n",
       "    </tr>\n",
       "    <tr>\n",
       "      <th>4</th>\n",
       "      <td>['get', 'through']</td>\n",
       "      <td>G/G2/G2E.xml</td>\n",
       "      <td>2734</td>\n",
       "      <td>True</td>\n",
       "      <td>1.0000</td>\n",
       "      <td>['9', '10']</td>\n",
       "      <td>['He', 'was', 'charged', 'for', 'a', 'call', '...</td>\n",
       "    </tr>\n",
       "  </tbody>\n",
       "</table>\n",
       "</div>"
      ],
      "text/plain": [
       "           pvc_lemmas     file_path   row  is_phrasal  \\\n",
       "0      ['take', 'on']  B/BN/BNN.xml   291        True   \n",
       "1      ['give', 'in']  B/B1/B1E.xml   670       False   \n",
       "2   ['take', 'after']  K/K3/K3E.xml    56       False   \n",
       "3      ['get', 'out']  C/CK/CK9.xml  1654        True   \n",
       "4  ['get', 'through']  G/G2/G2E.xml  2734        True   \n",
       "\n",
       "   annotator_agreement_percentage      verb_idx  \\\n",
       "0                          1.0000  ['12', '13']   \n",
       "1                          0.7051  ['15', '16']   \n",
       "2                          0.6733  ['21', '22']   \n",
       "3                          1.0000  ['19', '20']   \n",
       "4                          1.0000   ['9', '10']   \n",
       "\n",
       "                                               sents  \n",
       "0  ['At', 'about', 'the', 'same', 'time', 'the', ...  \n",
       "1  ['Production', 'is', 'centred', 'in', 'the', '...  \n",
       "2  ['By', 'Echo', 'reporter', 'CORONATION', 'Stre...  \n",
       "3  ['Mrs', 'Aggie', ',', 'I', 'do', 'want', 'to',...  \n",
       "4  ['He', 'was', 'charged', 'for', 'a', 'call', '...  "
      ]
     },
     "execution_count": 4,
     "metadata": {},
     "output_type": "execute_result"
    }
   ],
   "source": [
    "data.head()"
   ]
  },
  {
   "cell_type": "code",
   "execution_count": 5,
   "metadata": {},
   "outputs": [],
   "source": [
    "# Making sure all our data are in the right form\n",
    "data['pvc_lemmas'] = data['pvc_lemmas'].apply(eval)\n",
    "data['row'] = data['row'].apply(int)\n",
    "data['annotator_agreement_percentage'] = data['annotator_agreement_percentage'].apply(float)\n",
    "data['verb_idx'] = data['verb_idx'].apply(eval)\n",
    "data['sents'] = data['sents'].apply(eval)\n",
    "data['pvc_strings'] = data['pvc_lemmas'].apply(lambda x: ' '.join(x))\n",
    "data['sent_strings'] = data['sents'].apply(lambda x: ' '.join(x))\n"
   ]
  },
  {
   "cell_type": "markdown",
   "metadata": {},
   "source": [
    "## InferSent\n",
    "\n",
    "Most of the following code is taken from [here](https://github.com/facebookresearch/InferSent/blob/main/demo.ipynb)."
   ]
  },
  {
   "cell_type": "code",
   "execution_count": 6,
   "metadata": {},
   "outputs": [
    {
     "name": "stderr",
     "output_type": "stream",
     "text": [
      "[nltk_data] Downloading package punkt to\n",
      "[nltk_data]     C:\\Users\\johns\\AppData\\Roaming\\nltk_data...\n",
      "[nltk_data]   Package punkt is already up-to-date!\n"
     ]
    },
    {
     "data": {
      "text/plain": [
       "True"
      ]
     },
     "execution_count": 6,
     "metadata": {},
     "output_type": "execute_result"
    }
   ],
   "source": [
    "import nltk\n",
    "nltk.download('punkt')"
   ]
  },
  {
   "cell_type": "code",
   "execution_count": 7,
   "metadata": {},
   "outputs": [
    {
     "data": {
      "text/plain": [
       "<All keys matched successfully>"
      ]
     },
     "execution_count": 7,
     "metadata": {},
     "output_type": "execute_result"
    }
   ],
   "source": [
    "# Load model\n",
    "from model import InferSent\n",
    "model_version = 1\n",
    "MODEL_PATH = \"infersent%s.pkl\" % model_version\n",
    "params_model = {'bsize': 64, 'word_emb_dim': 300, 'enc_lstm_dim': 2048,\n",
    "                'pool_type': 'max', 'dpout_model': 0.0, 'version': model_version}\n",
    "model = InferSent(params_model)\n",
    "model.load_state_dict(torch.load(MODEL_PATH))"
   ]
  },
  {
   "cell_type": "code",
   "execution_count": 8,
   "metadata": {},
   "outputs": [],
   "source": [
    "# If infersent1 -> use GloVe embeddings. If infersent2 -> use InferSent embeddings.\n",
    "W2V_PATH = 'glove.6B.300d.txt' if model_version == 1 else 'fastText/crawl-300d-2M.vec'\n",
    "model.set_w2v_path(W2V_PATH)"
   ]
  },
  {
   "cell_type": "code",
   "execution_count": 9,
   "metadata": {},
   "outputs": [
    {
     "name": "stdout",
     "output_type": "stream",
     "text": [
      "Vocab size : 100000\n"
     ]
    }
   ],
   "source": [
    "# Load embeddings of K most frequent words\n",
    "model.build_vocab_k_words(K=100000)"
   ]
  },
  {
   "cell_type": "code",
   "execution_count": 10,
   "metadata": {},
   "outputs": [],
   "source": [
    "# Some test sentences!\n",
    "test_lvcs = ['I gave John a bath .', 'I gave John a book .', 'I gave John a chance .']"
   ]
  },
  {
   "cell_type": "code",
   "execution_count": 11,
   "metadata": {},
   "outputs": [
    {
     "name": "stdout",
     "output_type": "stream",
     "text": [
      "Nb words kept : 12/24 (50.0%)\n",
      "Speed : 49.3 sentences/s (cpu mode, bsize=128)\n",
      "nb sentences encoded : 3\n"
     ]
    }
   ],
   "source": [
    "test_embeds = model.encode(test_lvcs, bsize=128, tokenize=False, verbose=True)\n",
    "print('nb sentences encoded : {0}'.format(len(test_lvcs)))"
   ]
  },
  {
   "cell_type": "code",
   "execution_count": 12,
   "metadata": {},
   "outputs": [],
   "source": [
    "def cosine(u, v):\n",
    "    return np.dot(u, v) / (np.linalg.norm(u) * np.linalg.norm(v))"
   ]
  },
  {
   "cell_type": "code",
   "execution_count": 13,
   "metadata": {},
   "outputs": [
    {
     "data": {
      "text/plain": [
       "0.86921847"
      ]
     },
     "execution_count": 13,
     "metadata": {},
     "output_type": "execute_result"
    }
   ],
   "source": [
    "cosine(model.encode(['I gave John a bath.'])[0], model.encode(['I gave John a book.'])[0])"
   ]
  },
  {
   "cell_type": "code",
   "execution_count": 14,
   "metadata": {},
   "outputs": [
    {
     "name": "stdout",
     "output_type": "stream",
     "text": [
      "Nb words kept : 2616/5142 (50.9%)\n"
     ]
    },
    {
     "name": "stderr",
     "output_type": "stream",
     "text": [
      "C:\\Users\\johns\\Documents\\grad_school\\research\\light-verb-construction-embeddings\\model.py:207: VisibleDeprecationWarning: Creating an ndarray from ragged nested sequences (which is a list-or-tuple of lists-or-tuples-or ndarrays with different lengths or shapes) is deprecated. If you meant to do this, you must specify 'dtype=object' when creating the ndarray\n",
      "  sentences = np.array(sentences)[idx_sort]\n"
     ]
    },
    {
     "name": "stdout",
     "output_type": "stream",
     "text": [
      "Speed : 855.8 sentences/s (cpu mode, bsize=128)\n",
      "nb sentences encoded : 1263\n"
     ]
    }
   ],
   "source": [
    "# Phrasal verb embedding\n",
    "pv_embeddings = model.encode(data['pvc_strings'], bsize=128, tokenize=False, verbose=True)\n",
    "print('nb sentences encoded : {0}'.format(len(pv_embeddings)))"
   ]
  },
  {
   "cell_type": "code",
   "execution_count": 15,
   "metadata": {},
   "outputs": [
    {
     "name": "stdout",
     "output_type": "stream",
     "text": [
      "Nb words kept : 30795/36617 (84.1%)\n",
      "Speed : 63.0 sentences/s (cpu mode, bsize=128)\n",
      "nb sentences encoded : 1263\n"
     ]
    }
   ],
   "source": [
    "# Whole sentence embedding\n",
    "sent_embeddings = model.encode(data['sent_strings'], bsize=128, tokenize=False, verbose=True)\n",
    "print('nb sentences encoded : {0}'.format(len(sent_embeddings)))"
   ]
  },
  {
   "cell_type": "code",
   "execution_count": 16,
   "metadata": {},
   "outputs": [],
   "source": [
    "# Adding these to the DataFrame\n",
    "pv_infer_list = list(pv_embeddings)\n",
    "sent_infer_list = list(sent_embeddings)"
   ]
  },
  {
   "cell_type": "code",
   "execution_count": 17,
   "metadata": {},
   "outputs": [],
   "source": [
    "data['pv_infer_embeds'] = pv_infer_list\n",
    "data['sent_infer_embeds'] = sent_infer_list"
   ]
  },
  {
   "cell_type": "code",
   "execution_count": 18,
   "metadata": {},
   "outputs": [
    {
     "data": {
      "text/html": [
       "<div>\n",
       "<style scoped>\n",
       "    .dataframe tbody tr th:only-of-type {\n",
       "        vertical-align: middle;\n",
       "    }\n",
       "\n",
       "    .dataframe tbody tr th {\n",
       "        vertical-align: top;\n",
       "    }\n",
       "\n",
       "    .dataframe thead th {\n",
       "        text-align: right;\n",
       "    }\n",
       "</style>\n",
       "<table border=\"1\" class=\"dataframe\">\n",
       "  <thead>\n",
       "    <tr style=\"text-align: right;\">\n",
       "      <th></th>\n",
       "      <th>pvc_lemmas</th>\n",
       "      <th>file_path</th>\n",
       "      <th>row</th>\n",
       "      <th>is_phrasal</th>\n",
       "      <th>annotator_agreement_percentage</th>\n",
       "      <th>verb_idx</th>\n",
       "      <th>sents</th>\n",
       "      <th>pvc_strings</th>\n",
       "      <th>sent_strings</th>\n",
       "      <th>pv_infer_embeds</th>\n",
       "      <th>sent_infer_embeds</th>\n",
       "    </tr>\n",
       "  </thead>\n",
       "  <tbody>\n",
       "    <tr>\n",
       "      <th>0</th>\n",
       "      <td>[take, on]</td>\n",
       "      <td>B/BN/BNN.xml</td>\n",
       "      <td>291</td>\n",
       "      <td>True</td>\n",
       "      <td>1.0000</td>\n",
       "      <td>[12, 13]</td>\n",
       "      <td>[At, about, the, same, time, the, aliens, depa...</td>\n",
       "      <td>take on</td>\n",
       "      <td>At about the same time the aliens department o...</td>\n",
       "      <td>[0.04849784, 0.082029976, 0.010337902, 0.00278...</td>\n",
       "      <td>[0.12564819, 0.06340436, 0.055802934, 0.096010...</td>\n",
       "    </tr>\n",
       "    <tr>\n",
       "      <th>1</th>\n",
       "      <td>[give, in]</td>\n",
       "      <td>B/B1/B1E.xml</td>\n",
       "      <td>670</td>\n",
       "      <td>False</td>\n",
       "      <td>0.7051</td>\n",
       "      <td>[15, 16]</td>\n",
       "      <td>[Production, is, centred, in, the, Pacific, no...</td>\n",
       "      <td>give in</td>\n",
       "      <td>Production is centred in the Pacific northwest...</td>\n",
       "      <td>[0.06049606, 0.066955656, -0.0019042839, -0.05...</td>\n",
       "      <td>[0.07641017, 0.13320042, 0.008155916, 0.096234...</td>\n",
       "    </tr>\n",
       "    <tr>\n",
       "      <th>2</th>\n",
       "      <td>[take, after]</td>\n",
       "      <td>K/K3/K3E.xml</td>\n",
       "      <td>56</td>\n",
       "      <td>False</td>\n",
       "      <td>0.6733</td>\n",
       "      <td>[21, 22]</td>\n",
       "      <td>[By, Echo, reporter, CORONATION, Street, actre...</td>\n",
       "      <td>take after</td>\n",
       "      <td>By Echo reporter CORONATION Street actress Lyn...</td>\n",
       "      <td>[0.04559154, 0.013943457, 0.013154965, -0.0398...</td>\n",
       "      <td>[0.116348945, 0.07574034, 0.013408521, 0.07490...</td>\n",
       "    </tr>\n",
       "    <tr>\n",
       "      <th>3</th>\n",
       "      <td>[get, out]</td>\n",
       "      <td>C/CK/CK9.xml</td>\n",
       "      <td>1654</td>\n",
       "      <td>True</td>\n",
       "      <td>1.0000</td>\n",
       "      <td>[19, 20]</td>\n",
       "      <td>[Mrs, Aggie, ,, I, do, want, to, go, to, a, sc...</td>\n",
       "      <td>get out</td>\n",
       "      <td>Mrs Aggie , I do want to go to a school where ...</td>\n",
       "      <td>[0.04216131, -0.040760946, -0.071714684, -0.00...</td>\n",
       "      <td>[0.08019499, 0.06795283, 0.053973824, 0.092289...</td>\n",
       "    </tr>\n",
       "    <tr>\n",
       "      <th>4</th>\n",
       "      <td>[get, through]</td>\n",
       "      <td>G/G2/G2E.xml</td>\n",
       "      <td>2734</td>\n",
       "      <td>True</td>\n",
       "      <td>1.0000</td>\n",
       "      <td>[9, 10]</td>\n",
       "      <td>[He, was, charged, for, a, call, that, never, ...</td>\n",
       "      <td>get through</td>\n",
       "      <td>He was charged for a call that never got throu...</td>\n",
       "      <td>[0.07250941, -0.0235534, -0.04305069, 0.039528...</td>\n",
       "      <td>[0.07009956, 0.052870482, 0.08822129, 0.059288...</td>\n",
       "    </tr>\n",
       "  </tbody>\n",
       "</table>\n",
       "</div>"
      ],
      "text/plain": [
       "       pvc_lemmas     file_path   row  is_phrasal  \\\n",
       "0      [take, on]  B/BN/BNN.xml   291        True   \n",
       "1      [give, in]  B/B1/B1E.xml   670       False   \n",
       "2   [take, after]  K/K3/K3E.xml    56       False   \n",
       "3      [get, out]  C/CK/CK9.xml  1654        True   \n",
       "4  [get, through]  G/G2/G2E.xml  2734        True   \n",
       "\n",
       "   annotator_agreement_percentage  verb_idx  \\\n",
       "0                          1.0000  [12, 13]   \n",
       "1                          0.7051  [15, 16]   \n",
       "2                          0.6733  [21, 22]   \n",
       "3                          1.0000  [19, 20]   \n",
       "4                          1.0000   [9, 10]   \n",
       "\n",
       "                                               sents  pvc_strings  \\\n",
       "0  [At, about, the, same, time, the, aliens, depa...      take on   \n",
       "1  [Production, is, centred, in, the, Pacific, no...      give in   \n",
       "2  [By, Echo, reporter, CORONATION, Street, actre...   take after   \n",
       "3  [Mrs, Aggie, ,, I, do, want, to, go, to, a, sc...      get out   \n",
       "4  [He, was, charged, for, a, call, that, never, ...  get through   \n",
       "\n",
       "                                        sent_strings  \\\n",
       "0  At about the same time the aliens department o...   \n",
       "1  Production is centred in the Pacific northwest...   \n",
       "2  By Echo reporter CORONATION Street actress Lyn...   \n",
       "3  Mrs Aggie , I do want to go to a school where ...   \n",
       "4  He was charged for a call that never got throu...   \n",
       "\n",
       "                                     pv_infer_embeds  \\\n",
       "0  [0.04849784, 0.082029976, 0.010337902, 0.00278...   \n",
       "1  [0.06049606, 0.066955656, -0.0019042839, -0.05...   \n",
       "2  [0.04559154, 0.013943457, 0.013154965, -0.0398...   \n",
       "3  [0.04216131, -0.040760946, -0.071714684, -0.00...   \n",
       "4  [0.07250941, -0.0235534, -0.04305069, 0.039528...   \n",
       "\n",
       "                                   sent_infer_embeds  \n",
       "0  [0.12564819, 0.06340436, 0.055802934, 0.096010...  \n",
       "1  [0.07641017, 0.13320042, 0.008155916, 0.096234...  \n",
       "2  [0.116348945, 0.07574034, 0.013408521, 0.07490...  \n",
       "3  [0.08019499, 0.06795283, 0.053973824, 0.092289...  \n",
       "4  [0.07009956, 0.052870482, 0.08822129, 0.059288...  "
      ]
     },
     "execution_count": 18,
     "metadata": {},
     "output_type": "execute_result"
    }
   ],
   "source": [
    "data.head()"
   ]
  },
  {
   "cell_type": "markdown",
   "metadata": {},
   "source": [
    "## W2V"
   ]
  },
  {
   "cell_type": "code",
   "execution_count": 19,
   "metadata": {},
   "outputs": [],
   "source": [
    "import gensim.downloader"
   ]
  },
  {
   "cell_type": "code",
   "execution_count": 20,
   "metadata": {},
   "outputs": [],
   "source": [
    "w2v = gensim.downloader.load('word2vec-google-news-300')\n"
   ]
  },
  {
   "cell_type": "code",
   "execution_count": 21,
   "metadata": {},
   "outputs": [],
   "source": [
    "# Creating an <UNK> that is the mean of all vectors in the space\n",
    "w2v['<UNK>'] = np.mean([w2v[x] for x in w2v.key_to_index.keys()], axis=0)\n"
   ]
  },
  {
   "cell_type": "code",
   "execution_count": 22,
   "metadata": {},
   "outputs": [],
   "source": [
    "# Gets the vectors to the list\n",
    "def get_w2v_list(word_list, vectors):\n",
    "    vector_list = []\n",
    "    for word in word_list:\n",
    "        try:\n",
    "            vector_list.append(vectors[word])\n",
    "        except:\n",
    "            vector_list.append(vectors['<UNK>'])\n",
    "    return vector_list"
   ]
  },
  {
   "cell_type": "code",
   "execution_count": 23,
   "metadata": {},
   "outputs": [],
   "source": [
    "# Creating embedding representations\n",
    "data['pv_w2v_embed'] = data['pvc_lemmas'].apply(lambda x: get_w2v_list(x, w2v))\n",
    "data['sent_w2v_embed'] = data['sents'].apply(lambda x: get_w2v_list(x, w2v))"
   ]
  },
  {
   "cell_type": "code",
   "execution_count": 24,
   "metadata": {},
   "outputs": [
    {
     "data": {
      "text/html": [
       "<div>\n",
       "<style scoped>\n",
       "    .dataframe tbody tr th:only-of-type {\n",
       "        vertical-align: middle;\n",
       "    }\n",
       "\n",
       "    .dataframe tbody tr th {\n",
       "        vertical-align: top;\n",
       "    }\n",
       "\n",
       "    .dataframe thead th {\n",
       "        text-align: right;\n",
       "    }\n",
       "</style>\n",
       "<table border=\"1\" class=\"dataframe\">\n",
       "  <thead>\n",
       "    <tr style=\"text-align: right;\">\n",
       "      <th></th>\n",
       "      <th>pvc_lemmas</th>\n",
       "      <th>file_path</th>\n",
       "      <th>row</th>\n",
       "      <th>is_phrasal</th>\n",
       "      <th>annotator_agreement_percentage</th>\n",
       "      <th>verb_idx</th>\n",
       "      <th>sents</th>\n",
       "      <th>pvc_strings</th>\n",
       "      <th>sent_strings</th>\n",
       "      <th>pv_infer_embeds</th>\n",
       "      <th>sent_infer_embeds</th>\n",
       "      <th>pv_w2v_embed</th>\n",
       "      <th>sent_w2v_embed</th>\n",
       "    </tr>\n",
       "  </thead>\n",
       "  <tbody>\n",
       "    <tr>\n",
       "      <th>0</th>\n",
       "      <td>[take, on]</td>\n",
       "      <td>B/BN/BNN.xml</td>\n",
       "      <td>291</td>\n",
       "      <td>True</td>\n",
       "      <td>1.0000</td>\n",
       "      <td>[12, 13]</td>\n",
       "      <td>[At, about, the, same, time, the, aliens, depa...</td>\n",
       "      <td>take on</td>\n",
       "      <td>At about the same time the aliens department o...</td>\n",
       "      <td>[0.04849784, 0.082029976, 0.010337902, 0.00278...</td>\n",
       "      <td>[0.12564819, 0.06340436, 0.055802934, 0.096010...</td>\n",
       "      <td>[[-0.05102539, 0.0041503906, 0.024902344, -0.0...</td>\n",
       "      <td>[[-0.088378906, -0.011962891, 0.21484375, 0.05...</td>\n",
       "    </tr>\n",
       "    <tr>\n",
       "      <th>1</th>\n",
       "      <td>[give, in]</td>\n",
       "      <td>B/B1/B1E.xml</td>\n",
       "      <td>670</td>\n",
       "      <td>False</td>\n",
       "      <td>0.7051</td>\n",
       "      <td>[15, 16]</td>\n",
       "      <td>[Production, is, centred, in, the, Pacific, no...</td>\n",
       "      <td>give in</td>\n",
       "      <td>Production is centred in the Pacific northwest...</td>\n",
       "      <td>[0.06049606, 0.066955656, -0.0019042839, -0.05...</td>\n",
       "      <td>[0.07641017, 0.13320042, 0.008155916, 0.096234...</td>\n",
       "      <td>[[0.06201172, -0.122558594, 0.016845703, 0.086...</td>\n",
       "      <td>[[-0.027954102, -0.19042969, -0.02746582, -0.1...</td>\n",
       "    </tr>\n",
       "    <tr>\n",
       "      <th>2</th>\n",
       "      <td>[take, after]</td>\n",
       "      <td>K/K3/K3E.xml</td>\n",
       "      <td>56</td>\n",
       "      <td>False</td>\n",
       "      <td>0.6733</td>\n",
       "      <td>[21, 22]</td>\n",
       "      <td>[By, Echo, reporter, CORONATION, Street, actre...</td>\n",
       "      <td>take after</td>\n",
       "      <td>By Echo reporter CORONATION Street actress Lyn...</td>\n",
       "      <td>[0.04559154, 0.013943457, 0.013154965, -0.0398...</td>\n",
       "      <td>[0.116348945, 0.07574034, 0.013408521, 0.07490...</td>\n",
       "      <td>[[-0.05102539, 0.0041503906, 0.024902344, -0.0...</td>\n",
       "      <td>[[-0.047851562, -0.29492188, 0.375, 0.359375, ...</td>\n",
       "    </tr>\n",
       "    <tr>\n",
       "      <th>3</th>\n",
       "      <td>[get, out]</td>\n",
       "      <td>C/CK/CK9.xml</td>\n",
       "      <td>1654</td>\n",
       "      <td>True</td>\n",
       "      <td>1.0000</td>\n",
       "      <td>[19, 20]</td>\n",
       "      <td>[Mrs, Aggie, ,, I, do, want, to, go, to, a, sc...</td>\n",
       "      <td>get out</td>\n",
       "      <td>Mrs Aggie , I do want to go to a school where ...</td>\n",
       "      <td>[0.04216131, -0.040760946, -0.071714684, -0.00...</td>\n",
       "      <td>[0.08019499, 0.06795283, 0.053973824, 0.092289...</td>\n",
       "      <td>[[0.033203125, -0.08984375, -0.29492188, 0.115...</td>\n",
       "      <td>[[0.23242188, -0.1875, -0.28125, -0.06542969, ...</td>\n",
       "    </tr>\n",
       "    <tr>\n",
       "      <th>4</th>\n",
       "      <td>[get, through]</td>\n",
       "      <td>G/G2/G2E.xml</td>\n",
       "      <td>2734</td>\n",
       "      <td>True</td>\n",
       "      <td>1.0000</td>\n",
       "      <td>[9, 10]</td>\n",
       "      <td>[He, was, charged, for, a, call, that, never, ...</td>\n",
       "      <td>get through</td>\n",
       "      <td>He was charged for a call that never got throu...</td>\n",
       "      <td>[0.07250941, -0.0235534, -0.04305069, 0.039528...</td>\n",
       "      <td>[0.07009956, 0.052870482, 0.08822129, 0.059288...</td>\n",
       "      <td>[[0.033203125, -0.08984375, -0.29492188, 0.115...</td>\n",
       "      <td>[[-0.038085938, 0.34570312, 0.103027344, -0.03...</td>\n",
       "    </tr>\n",
       "  </tbody>\n",
       "</table>\n",
       "</div>"
      ],
      "text/plain": [
       "       pvc_lemmas     file_path   row  is_phrasal  \\\n",
       "0      [take, on]  B/BN/BNN.xml   291        True   \n",
       "1      [give, in]  B/B1/B1E.xml   670       False   \n",
       "2   [take, after]  K/K3/K3E.xml    56       False   \n",
       "3      [get, out]  C/CK/CK9.xml  1654        True   \n",
       "4  [get, through]  G/G2/G2E.xml  2734        True   \n",
       "\n",
       "   annotator_agreement_percentage  verb_idx  \\\n",
       "0                          1.0000  [12, 13]   \n",
       "1                          0.7051  [15, 16]   \n",
       "2                          0.6733  [21, 22]   \n",
       "3                          1.0000  [19, 20]   \n",
       "4                          1.0000   [9, 10]   \n",
       "\n",
       "                                               sents  pvc_strings  \\\n",
       "0  [At, about, the, same, time, the, aliens, depa...      take on   \n",
       "1  [Production, is, centred, in, the, Pacific, no...      give in   \n",
       "2  [By, Echo, reporter, CORONATION, Street, actre...   take after   \n",
       "3  [Mrs, Aggie, ,, I, do, want, to, go, to, a, sc...      get out   \n",
       "4  [He, was, charged, for, a, call, that, never, ...  get through   \n",
       "\n",
       "                                        sent_strings  \\\n",
       "0  At about the same time the aliens department o...   \n",
       "1  Production is centred in the Pacific northwest...   \n",
       "2  By Echo reporter CORONATION Street actress Lyn...   \n",
       "3  Mrs Aggie , I do want to go to a school where ...   \n",
       "4  He was charged for a call that never got throu...   \n",
       "\n",
       "                                     pv_infer_embeds  \\\n",
       "0  [0.04849784, 0.082029976, 0.010337902, 0.00278...   \n",
       "1  [0.06049606, 0.066955656, -0.0019042839, -0.05...   \n",
       "2  [0.04559154, 0.013943457, 0.013154965, -0.0398...   \n",
       "3  [0.04216131, -0.040760946, -0.071714684, -0.00...   \n",
       "4  [0.07250941, -0.0235534, -0.04305069, 0.039528...   \n",
       "\n",
       "                                   sent_infer_embeds  \\\n",
       "0  [0.12564819, 0.06340436, 0.055802934, 0.096010...   \n",
       "1  [0.07641017, 0.13320042, 0.008155916, 0.096234...   \n",
       "2  [0.116348945, 0.07574034, 0.013408521, 0.07490...   \n",
       "3  [0.08019499, 0.06795283, 0.053973824, 0.092289...   \n",
       "4  [0.07009956, 0.052870482, 0.08822129, 0.059288...   \n",
       "\n",
       "                                        pv_w2v_embed  \\\n",
       "0  [[-0.05102539, 0.0041503906, 0.024902344, -0.0...   \n",
       "1  [[0.06201172, -0.122558594, 0.016845703, 0.086...   \n",
       "2  [[-0.05102539, 0.0041503906, 0.024902344, -0.0...   \n",
       "3  [[0.033203125, -0.08984375, -0.29492188, 0.115...   \n",
       "4  [[0.033203125, -0.08984375, -0.29492188, 0.115...   \n",
       "\n",
       "                                      sent_w2v_embed  \n",
       "0  [[-0.088378906, -0.011962891, 0.21484375, 0.05...  \n",
       "1  [[-0.027954102, -0.19042969, -0.02746582, -0.1...  \n",
       "2  [[-0.047851562, -0.29492188, 0.375, 0.359375, ...  \n",
       "3  [[0.23242188, -0.1875, -0.28125, -0.06542969, ...  \n",
       "4  [[-0.038085938, 0.34570312, 0.103027344, -0.03...  "
      ]
     },
     "execution_count": 24,
     "metadata": {},
     "output_type": "execute_result"
    }
   ],
   "source": [
    "data.head()"
   ]
  },
  {
   "cell_type": "markdown",
   "metadata": {},
   "source": [
    "## GLoVe\n",
    "\n",
    "__NOTE:__ Uncomment the following final line in the following code block if you have _not_ created a w2v filetype from the GLoVe embeddings already:"
   ]
  },
  {
   "cell_type": "code",
   "execution_count": 25,
   "metadata": {},
   "outputs": [],
   "source": [
    "from gensim.scripts.glove2word2vec import glove2word2vec\n",
    "\n",
    "glove_filename = 'glove.6B.300d.txt'\n",
    "word2vec_output_file = glove_filename+'.word2vec'\n",
    "# glove2word2vec(glove_filename, word2vec_output_file)"
   ]
  },
  {
   "cell_type": "code",
   "execution_count": 26,
   "metadata": {},
   "outputs": [],
   "source": [
    "# This can take a while to run :( \n",
    "from gensim.models import KeyedVectors\n",
    "\n",
    "glove = KeyedVectors.load_word2vec_format(word2vec_output_file, binary=False)"
   ]
  },
  {
   "cell_type": "code",
   "execution_count": 27,
   "metadata": {},
   "outputs": [],
   "source": [
    "# Creating an <UNK> representation that consists of the mean of the embedding space\n",
    "glove['<UNK>'] = np.mean([glove[x] for x in glove.key_to_index.keys()], axis=0)"
   ]
  },
  {
   "cell_type": "code",
   "execution_count": 28,
   "metadata": {},
   "outputs": [],
   "source": [
    "def get_glove(token_list, model):\n",
    "    vector_list = []\n",
    "    for word in token_list:\n",
    "        try:\n",
    "            vector_list.append(model[word])\n",
    "        except:\n",
    "            vector_list.append(model['<UNK>'])\n",
    "    return vector_list"
   ]
  },
  {
   "cell_type": "code",
   "execution_count": 29,
   "metadata": {},
   "outputs": [],
   "source": [
    "# Retrieving vector representations for everything!\n",
    "data['pv_glove_embed'] = data['pvc_lemmas'].apply(lambda x: get_glove(x, glove))\n",
    "data['sent_glove_embed'] = data['pvc_lemmas'].apply(lambda x: get_glove(x, glove))"
   ]
  },
  {
   "cell_type": "code",
   "execution_count": 30,
   "metadata": {},
   "outputs": [
    {
     "data": {
      "text/html": [
       "<div>\n",
       "<style scoped>\n",
       "    .dataframe tbody tr th:only-of-type {\n",
       "        vertical-align: middle;\n",
       "    }\n",
       "\n",
       "    .dataframe tbody tr th {\n",
       "        vertical-align: top;\n",
       "    }\n",
       "\n",
       "    .dataframe thead th {\n",
       "        text-align: right;\n",
       "    }\n",
       "</style>\n",
       "<table border=\"1\" class=\"dataframe\">\n",
       "  <thead>\n",
       "    <tr style=\"text-align: right;\">\n",
       "      <th></th>\n",
       "      <th>pvc_lemmas</th>\n",
       "      <th>file_path</th>\n",
       "      <th>row</th>\n",
       "      <th>is_phrasal</th>\n",
       "      <th>annotator_agreement_percentage</th>\n",
       "      <th>verb_idx</th>\n",
       "      <th>sents</th>\n",
       "      <th>pvc_strings</th>\n",
       "      <th>sent_strings</th>\n",
       "      <th>pv_infer_embeds</th>\n",
       "      <th>sent_infer_embeds</th>\n",
       "      <th>pv_w2v_embed</th>\n",
       "      <th>sent_w2v_embed</th>\n",
       "      <th>pv_glove_embed</th>\n",
       "      <th>sent_glove_embed</th>\n",
       "    </tr>\n",
       "  </thead>\n",
       "  <tbody>\n",
       "    <tr>\n",
       "      <th>0</th>\n",
       "      <td>[take, on]</td>\n",
       "      <td>B/BN/BNN.xml</td>\n",
       "      <td>291</td>\n",
       "      <td>True</td>\n",
       "      <td>1.0000</td>\n",
       "      <td>[12, 13]</td>\n",
       "      <td>[At, about, the, same, time, the, aliens, depa...</td>\n",
       "      <td>take on</td>\n",
       "      <td>At about the same time the aliens department o...</td>\n",
       "      <td>[0.04849784, 0.082029976, 0.010337902, 0.00278...</td>\n",
       "      <td>[0.12564819, 0.06340436, 0.055802934, 0.096010...</td>\n",
       "      <td>[[-0.05102539, 0.0041503906, 0.024902344, -0.0...</td>\n",
       "      <td>[[-0.088378906, -0.011962891, 0.21484375, 0.05...</td>\n",
       "      <td>[[-0.015879, 0.11807, -0.12769, -0.16302, -0.0...</td>\n",
       "      <td>[[-0.015879, 0.11807, -0.12769, -0.16302, -0.0...</td>\n",
       "    </tr>\n",
       "    <tr>\n",
       "      <th>1</th>\n",
       "      <td>[give, in]</td>\n",
       "      <td>B/B1/B1E.xml</td>\n",
       "      <td>670</td>\n",
       "      <td>False</td>\n",
       "      <td>0.7051</td>\n",
       "      <td>[15, 16]</td>\n",
       "      <td>[Production, is, centred, in, the, Pacific, no...</td>\n",
       "      <td>give in</td>\n",
       "      <td>Production is centred in the Pacific northwest...</td>\n",
       "      <td>[0.06049606, 0.066955656, -0.0019042839, -0.05...</td>\n",
       "      <td>[0.07641017, 0.13320042, 0.008155916, 0.096234...</td>\n",
       "      <td>[[0.06201172, -0.122558594, 0.016845703, 0.086...</td>\n",
       "      <td>[[-0.027954102, -0.19042969, -0.02746582, -0.1...</td>\n",
       "      <td>[[0.1088, -0.21724, -0.55772, -0.15096, 0.0473...</td>\n",
       "      <td>[[0.1088, -0.21724, -0.55772, -0.15096, 0.0473...</td>\n",
       "    </tr>\n",
       "    <tr>\n",
       "      <th>2</th>\n",
       "      <td>[take, after]</td>\n",
       "      <td>K/K3/K3E.xml</td>\n",
       "      <td>56</td>\n",
       "      <td>False</td>\n",
       "      <td>0.6733</td>\n",
       "      <td>[21, 22]</td>\n",
       "      <td>[By, Echo, reporter, CORONATION, Street, actre...</td>\n",
       "      <td>take after</td>\n",
       "      <td>By Echo reporter CORONATION Street actress Lyn...</td>\n",
       "      <td>[0.04559154, 0.013943457, 0.013154965, -0.0398...</td>\n",
       "      <td>[0.116348945, 0.07574034, 0.013408521, 0.07490...</td>\n",
       "      <td>[[-0.05102539, 0.0041503906, 0.024902344, -0.0...</td>\n",
       "      <td>[[-0.047851562, -0.29492188, 0.375, 0.359375, ...</td>\n",
       "      <td>[[-0.015879, 0.11807, -0.12769, -0.16302, -0.0...</td>\n",
       "      <td>[[-0.015879, 0.11807, -0.12769, -0.16302, -0.0...</td>\n",
       "    </tr>\n",
       "    <tr>\n",
       "      <th>3</th>\n",
       "      <td>[get, out]</td>\n",
       "      <td>C/CK/CK9.xml</td>\n",
       "      <td>1654</td>\n",
       "      <td>True</td>\n",
       "      <td>1.0000</td>\n",
       "      <td>[19, 20]</td>\n",
       "      <td>[Mrs, Aggie, ,, I, do, want, to, go, to, a, sc...</td>\n",
       "      <td>get out</td>\n",
       "      <td>Mrs Aggie , I do want to go to a school where ...</td>\n",
       "      <td>[0.04216131, -0.040760946, -0.071714684, -0.00...</td>\n",
       "      <td>[0.08019499, 0.06795283, 0.053973824, 0.092289...</td>\n",
       "      <td>[[0.033203125, -0.08984375, -0.29492188, 0.115...</td>\n",
       "      <td>[[0.23242188, -0.1875, -0.28125, -0.06542969, ...</td>\n",
       "      <td>[[-0.14124, -0.11836, -0.30782, 0.098416, 0.22...</td>\n",
       "      <td>[[-0.14124, -0.11836, -0.30782, 0.098416, 0.22...</td>\n",
       "    </tr>\n",
       "    <tr>\n",
       "      <th>4</th>\n",
       "      <td>[get, through]</td>\n",
       "      <td>G/G2/G2E.xml</td>\n",
       "      <td>2734</td>\n",
       "      <td>True</td>\n",
       "      <td>1.0000</td>\n",
       "      <td>[9, 10]</td>\n",
       "      <td>[He, was, charged, for, a, call, that, never, ...</td>\n",
       "      <td>get through</td>\n",
       "      <td>He was charged for a call that never got throu...</td>\n",
       "      <td>[0.07250941, -0.0235534, -0.04305069, 0.039528...</td>\n",
       "      <td>[0.07009956, 0.052870482, 0.08822129, 0.059288...</td>\n",
       "      <td>[[0.033203125, -0.08984375, -0.29492188, 0.115...</td>\n",
       "      <td>[[-0.038085938, 0.34570312, 0.103027344, -0.03...</td>\n",
       "      <td>[[-0.14124, -0.11836, -0.30782, 0.098416, 0.22...</td>\n",
       "      <td>[[-0.14124, -0.11836, -0.30782, 0.098416, 0.22...</td>\n",
       "    </tr>\n",
       "  </tbody>\n",
       "</table>\n",
       "</div>"
      ],
      "text/plain": [
       "       pvc_lemmas     file_path   row  is_phrasal  \\\n",
       "0      [take, on]  B/BN/BNN.xml   291        True   \n",
       "1      [give, in]  B/B1/B1E.xml   670       False   \n",
       "2   [take, after]  K/K3/K3E.xml    56       False   \n",
       "3      [get, out]  C/CK/CK9.xml  1654        True   \n",
       "4  [get, through]  G/G2/G2E.xml  2734        True   \n",
       "\n",
       "   annotator_agreement_percentage  verb_idx  \\\n",
       "0                          1.0000  [12, 13]   \n",
       "1                          0.7051  [15, 16]   \n",
       "2                          0.6733  [21, 22]   \n",
       "3                          1.0000  [19, 20]   \n",
       "4                          1.0000   [9, 10]   \n",
       "\n",
       "                                               sents  pvc_strings  \\\n",
       "0  [At, about, the, same, time, the, aliens, depa...      take on   \n",
       "1  [Production, is, centred, in, the, Pacific, no...      give in   \n",
       "2  [By, Echo, reporter, CORONATION, Street, actre...   take after   \n",
       "3  [Mrs, Aggie, ,, I, do, want, to, go, to, a, sc...      get out   \n",
       "4  [He, was, charged, for, a, call, that, never, ...  get through   \n",
       "\n",
       "                                        sent_strings  \\\n",
       "0  At about the same time the aliens department o...   \n",
       "1  Production is centred in the Pacific northwest...   \n",
       "2  By Echo reporter CORONATION Street actress Lyn...   \n",
       "3  Mrs Aggie , I do want to go to a school where ...   \n",
       "4  He was charged for a call that never got throu...   \n",
       "\n",
       "                                     pv_infer_embeds  \\\n",
       "0  [0.04849784, 0.082029976, 0.010337902, 0.00278...   \n",
       "1  [0.06049606, 0.066955656, -0.0019042839, -0.05...   \n",
       "2  [0.04559154, 0.013943457, 0.013154965, -0.0398...   \n",
       "3  [0.04216131, -0.040760946, -0.071714684, -0.00...   \n",
       "4  [0.07250941, -0.0235534, -0.04305069, 0.039528...   \n",
       "\n",
       "                                   sent_infer_embeds  \\\n",
       "0  [0.12564819, 0.06340436, 0.055802934, 0.096010...   \n",
       "1  [0.07641017, 0.13320042, 0.008155916, 0.096234...   \n",
       "2  [0.116348945, 0.07574034, 0.013408521, 0.07490...   \n",
       "3  [0.08019499, 0.06795283, 0.053973824, 0.092289...   \n",
       "4  [0.07009956, 0.052870482, 0.08822129, 0.059288...   \n",
       "\n",
       "                                        pv_w2v_embed  \\\n",
       "0  [[-0.05102539, 0.0041503906, 0.024902344, -0.0...   \n",
       "1  [[0.06201172, -0.122558594, 0.016845703, 0.086...   \n",
       "2  [[-0.05102539, 0.0041503906, 0.024902344, -0.0...   \n",
       "3  [[0.033203125, -0.08984375, -0.29492188, 0.115...   \n",
       "4  [[0.033203125, -0.08984375, -0.29492188, 0.115...   \n",
       "\n",
       "                                      sent_w2v_embed  \\\n",
       "0  [[-0.088378906, -0.011962891, 0.21484375, 0.05...   \n",
       "1  [[-0.027954102, -0.19042969, -0.02746582, -0.1...   \n",
       "2  [[-0.047851562, -0.29492188, 0.375, 0.359375, ...   \n",
       "3  [[0.23242188, -0.1875, -0.28125, -0.06542969, ...   \n",
       "4  [[-0.038085938, 0.34570312, 0.103027344, -0.03...   \n",
       "\n",
       "                                      pv_glove_embed  \\\n",
       "0  [[-0.015879, 0.11807, -0.12769, -0.16302, -0.0...   \n",
       "1  [[0.1088, -0.21724, -0.55772, -0.15096, 0.0473...   \n",
       "2  [[-0.015879, 0.11807, -0.12769, -0.16302, -0.0...   \n",
       "3  [[-0.14124, -0.11836, -0.30782, 0.098416, 0.22...   \n",
       "4  [[-0.14124, -0.11836, -0.30782, 0.098416, 0.22...   \n",
       "\n",
       "                                    sent_glove_embed  \n",
       "0  [[-0.015879, 0.11807, -0.12769, -0.16302, -0.0...  \n",
       "1  [[0.1088, -0.21724, -0.55772, -0.15096, 0.0473...  \n",
       "2  [[-0.015879, 0.11807, -0.12769, -0.16302, -0.0...  \n",
       "3  [[-0.14124, -0.11836, -0.30782, 0.098416, 0.22...  \n",
       "4  [[-0.14124, -0.11836, -0.30782, 0.098416, 0.22...  "
      ]
     },
     "execution_count": 30,
     "metadata": {},
     "output_type": "execute_result"
    }
   ],
   "source": [
    "data.head()"
   ]
  },
  {
   "cell_type": "code",
   "execution_count": 31,
   "metadata": {},
   "outputs": [],
   "source": [
    "# Saving to data/ folder:\n",
    "data.to_csv('data/pvc_with_embeds.csv', index=False, compression=None)"
   ]
  },
  {
   "cell_type": "markdown",
   "metadata": {},
   "source": [
    "## Training Classifiers\n",
    "\n",
    "In this section, I will train a number of classifiers to predict whether or not a sentence contains a phrasal verb or not based on the embedding representation it receives. I train classifiers of the following permutations:\n",
    "\n",
    "1. Sentence-level InferSent embeddings (containing the phrasal verb)\n",
    "2. Token-level W2V embeddings for the sentence\n",
    "3. Token-level GLoVe embeddings for the sentence\n",
    "4. Token-level W2V embeddings for the sentence with the phrasal verb combined into one embedding via mean pooling\n",
    "5. Token-level GLoVe embeddings for the sentence with the phrasal verb combined into one embedding via mean pooling\n",
    "\n",
    "Prior to creating these classifiers, I need to do the mean pooling for the final two options above! :)"
   ]
  },
  {
   "cell_type": "code",
   "execution_count": 32,
   "metadata": {},
   "outputs": [],
   "source": [
    "from sklearn.svm import SVC\n",
    "from sklearn.pipeline import make_pipeline\n",
    "from sklearn.preprocessing import StandardScaler\n",
    "from sklearn.metrics import confusion_matrix\n",
    "from sklearn.model_selection import KFold\n",
    "from sklearn.model_selection import train_test_split\n",
    "from sklearn.model_selection import cross_val_score"
   ]
  },
  {
   "cell_type": "code",
   "execution_count": 33,
   "metadata": {},
   "outputs": [
    {
     "data": {
      "text/html": [
       "<div>\n",
       "<style scoped>\n",
       "    .dataframe tbody tr th:only-of-type {\n",
       "        vertical-align: middle;\n",
       "    }\n",
       "\n",
       "    .dataframe tbody tr th {\n",
       "        vertical-align: top;\n",
       "    }\n",
       "\n",
       "    .dataframe thead th {\n",
       "        text-align: right;\n",
       "    }\n",
       "</style>\n",
       "<table border=\"1\" class=\"dataframe\">\n",
       "  <thead>\n",
       "    <tr style=\"text-align: right;\">\n",
       "      <th></th>\n",
       "      <th>pvc_lemmas</th>\n",
       "      <th>file_path</th>\n",
       "      <th>row</th>\n",
       "      <th>is_phrasal</th>\n",
       "      <th>annotator_agreement_percentage</th>\n",
       "      <th>verb_idx</th>\n",
       "      <th>sents</th>\n",
       "      <th>pvc_strings</th>\n",
       "      <th>sent_strings</th>\n",
       "      <th>pv_infer_embeds</th>\n",
       "      <th>sent_infer_embeds</th>\n",
       "      <th>pv_w2v_embed</th>\n",
       "      <th>sent_w2v_embed</th>\n",
       "      <th>pv_glove_embed</th>\n",
       "      <th>sent_glove_embed</th>\n",
       "    </tr>\n",
       "  </thead>\n",
       "  <tbody>\n",
       "    <tr>\n",
       "      <th>0</th>\n",
       "      <td>[take, on]</td>\n",
       "      <td>B/BN/BNN.xml</td>\n",
       "      <td>291</td>\n",
       "      <td>True</td>\n",
       "      <td>1.0000</td>\n",
       "      <td>[12, 13]</td>\n",
       "      <td>[At, about, the, same, time, the, aliens, depa...</td>\n",
       "      <td>take on</td>\n",
       "      <td>At about the same time the aliens department o...</td>\n",
       "      <td>[0.04849784, 0.082029976, 0.010337902, 0.00278...</td>\n",
       "      <td>[0.12564819, 0.06340436, 0.055802934, 0.096010...</td>\n",
       "      <td>[[-0.05102539, 0.0041503906, 0.024902344, -0.0...</td>\n",
       "      <td>[[-0.088378906, -0.011962891, 0.21484375, 0.05...</td>\n",
       "      <td>[[-0.015879, 0.11807, -0.12769, -0.16302, -0.0...</td>\n",
       "      <td>[[-0.015879, 0.11807, -0.12769, -0.16302, -0.0...</td>\n",
       "    </tr>\n",
       "    <tr>\n",
       "      <th>1</th>\n",
       "      <td>[give, in]</td>\n",
       "      <td>B/B1/B1E.xml</td>\n",
       "      <td>670</td>\n",
       "      <td>False</td>\n",
       "      <td>0.7051</td>\n",
       "      <td>[15, 16]</td>\n",
       "      <td>[Production, is, centred, in, the, Pacific, no...</td>\n",
       "      <td>give in</td>\n",
       "      <td>Production is centred in the Pacific northwest...</td>\n",
       "      <td>[0.06049606, 0.066955656, -0.0019042839, -0.05...</td>\n",
       "      <td>[0.07641017, 0.13320042, 0.008155916, 0.096234...</td>\n",
       "      <td>[[0.06201172, -0.122558594, 0.016845703, 0.086...</td>\n",
       "      <td>[[-0.027954102, -0.19042969, -0.02746582, -0.1...</td>\n",
       "      <td>[[0.1088, -0.21724, -0.55772, -0.15096, 0.0473...</td>\n",
       "      <td>[[0.1088, -0.21724, -0.55772, -0.15096, 0.0473...</td>\n",
       "    </tr>\n",
       "    <tr>\n",
       "      <th>2</th>\n",
       "      <td>[take, after]</td>\n",
       "      <td>K/K3/K3E.xml</td>\n",
       "      <td>56</td>\n",
       "      <td>False</td>\n",
       "      <td>0.6733</td>\n",
       "      <td>[21, 22]</td>\n",
       "      <td>[By, Echo, reporter, CORONATION, Street, actre...</td>\n",
       "      <td>take after</td>\n",
       "      <td>By Echo reporter CORONATION Street actress Lyn...</td>\n",
       "      <td>[0.04559154, 0.013943457, 0.013154965, -0.0398...</td>\n",
       "      <td>[0.116348945, 0.07574034, 0.013408521, 0.07490...</td>\n",
       "      <td>[[-0.05102539, 0.0041503906, 0.024902344, -0.0...</td>\n",
       "      <td>[[-0.047851562, -0.29492188, 0.375, 0.359375, ...</td>\n",
       "      <td>[[-0.015879, 0.11807, -0.12769, -0.16302, -0.0...</td>\n",
       "      <td>[[-0.015879, 0.11807, -0.12769, -0.16302, -0.0...</td>\n",
       "    </tr>\n",
       "    <tr>\n",
       "      <th>3</th>\n",
       "      <td>[get, out]</td>\n",
       "      <td>C/CK/CK9.xml</td>\n",
       "      <td>1654</td>\n",
       "      <td>True</td>\n",
       "      <td>1.0000</td>\n",
       "      <td>[19, 20]</td>\n",
       "      <td>[Mrs, Aggie, ,, I, do, want, to, go, to, a, sc...</td>\n",
       "      <td>get out</td>\n",
       "      <td>Mrs Aggie , I do want to go to a school where ...</td>\n",
       "      <td>[0.04216131, -0.040760946, -0.071714684, -0.00...</td>\n",
       "      <td>[0.08019499, 0.06795283, 0.053973824, 0.092289...</td>\n",
       "      <td>[[0.033203125, -0.08984375, -0.29492188, 0.115...</td>\n",
       "      <td>[[0.23242188, -0.1875, -0.28125, -0.06542969, ...</td>\n",
       "      <td>[[-0.14124, -0.11836, -0.30782, 0.098416, 0.22...</td>\n",
       "      <td>[[-0.14124, -0.11836, -0.30782, 0.098416, 0.22...</td>\n",
       "    </tr>\n",
       "    <tr>\n",
       "      <th>4</th>\n",
       "      <td>[get, through]</td>\n",
       "      <td>G/G2/G2E.xml</td>\n",
       "      <td>2734</td>\n",
       "      <td>True</td>\n",
       "      <td>1.0000</td>\n",
       "      <td>[9, 10]</td>\n",
       "      <td>[He, was, charged, for, a, call, that, never, ...</td>\n",
       "      <td>get through</td>\n",
       "      <td>He was charged for a call that never got throu...</td>\n",
       "      <td>[0.07250941, -0.0235534, -0.04305069, 0.039528...</td>\n",
       "      <td>[0.07009956, 0.052870482, 0.08822129, 0.059288...</td>\n",
       "      <td>[[0.033203125, -0.08984375, -0.29492188, 0.115...</td>\n",
       "      <td>[[-0.038085938, 0.34570312, 0.103027344, -0.03...</td>\n",
       "      <td>[[-0.14124, -0.11836, -0.30782, 0.098416, 0.22...</td>\n",
       "      <td>[[-0.14124, -0.11836, -0.30782, 0.098416, 0.22...</td>\n",
       "    </tr>\n",
       "    <tr>\n",
       "      <th>5</th>\n",
       "      <td>[give, in]</td>\n",
       "      <td>C/CL/CLP.xml</td>\n",
       "      <td>629</td>\n",
       "      <td>False</td>\n",
       "      <td>0.6991</td>\n",
       "      <td>[7, 8]</td>\n",
       "      <td>[An, illustration, of, a, flow, chart, is, giv...</td>\n",
       "      <td>give in</td>\n",
       "      <td>An illustration of a flow chart is given in Fi...</td>\n",
       "      <td>[0.06049606, 0.066955656, -0.0019042839, -0.05...</td>\n",
       "      <td>[0.09184964, 0.08700765, 0.14155161, 0.1168551...</td>\n",
       "      <td>[[0.06201172, -0.122558594, 0.016845703, 0.086...</td>\n",
       "      <td>[[0.053710938, 0.4453125, 0.17675781, -0.17187...</td>\n",
       "      <td>[[0.1088, -0.21724, -0.55772, -0.15096, 0.0473...</td>\n",
       "      <td>[[0.1088, -0.21724, -0.55772, -0.15096, 0.0473...</td>\n",
       "    </tr>\n",
       "    <tr>\n",
       "      <th>6</th>\n",
       "      <td>[get, on]</td>\n",
       "      <td>C/CB/CBG.xml</td>\n",
       "      <td>8098</td>\n",
       "      <td>False</td>\n",
       "      <td>0.6915</td>\n",
       "      <td>[8, 9]</td>\n",
       "      <td>[In, the, minute, Philliskirk, netted, as, he,...</td>\n",
       "      <td>get on</td>\n",
       "      <td>In the minute Philliskirk netted as he got on ...</td>\n",
       "      <td>[0.04557705, 0.045318495, -0.049521793, 0.0273...</td>\n",
       "      <td>[0.040870853, 0.052796114, 0.027287105, 0.0538...</td>\n",
       "      <td>[[0.033203125, -0.08984375, -0.29492188, 0.115...</td>\n",
       "      <td>[[0.032226562, 0.12207031, 0.22558594, -0.1289...</td>\n",
       "      <td>[[-0.14124, -0.11836, -0.30782, 0.098416, 0.22...</td>\n",
       "      <td>[[-0.14124, -0.11836, -0.30782, 0.098416, 0.22...</td>\n",
       "    </tr>\n",
       "    <tr>\n",
       "      <th>7</th>\n",
       "      <td>[give, in]</td>\n",
       "      <td>C/CB/CB6.xml</td>\n",
       "      <td>334</td>\n",
       "      <td>False</td>\n",
       "      <td>0.6551</td>\n",
       "      <td>[4, 5]</td>\n",
       "      <td>[I, Jordan, de, Blossevilla, give, in, free, a...</td>\n",
       "      <td>give in</td>\n",
       "      <td>I Jordan de Blossevilla give in free alms to G...</td>\n",
       "      <td>[0.06049606, 0.066955656, -0.0019042839, -0.05...</td>\n",
       "      <td>[0.07994307, 0.07486074, 0.14933504, 0.1102134...</td>\n",
       "      <td>[[0.06201172, -0.122558594, 0.016845703, 0.086...</td>\n",
       "      <td>[[0.07910156, -0.0050354004, 0.111816406, 0.21...</td>\n",
       "      <td>[[0.1088, -0.21724, -0.55772, -0.15096, 0.0473...</td>\n",
       "      <td>[[0.1088, -0.21724, -0.55772, -0.15096, 0.0473...</td>\n",
       "    </tr>\n",
       "    <tr>\n",
       "      <th>8</th>\n",
       "      <td>[give, in]</td>\n",
       "      <td>C/CG/CG9.xml</td>\n",
       "      <td>625</td>\n",
       "      <td>False</td>\n",
       "      <td>1.0000</td>\n",
       "      <td>[39, 40]</td>\n",
       "      <td>[Within, the, above, breakdown, one, can, sugg...</td>\n",
       "      <td>give in</td>\n",
       "      <td>Within the above breakdown one can suggest the...</td>\n",
       "      <td>[0.06049606, 0.066955656, -0.0019042839, -0.05...</td>\n",
       "      <td>[0.09619153, 0.08128547, 0.09374884, 0.0985300...</td>\n",
       "      <td>[[0.06201172, -0.122558594, 0.016845703, 0.086...</td>\n",
       "      <td>[[-0.15722656, -0.23535156, 0.20996094, -0.070...</td>\n",
       "      <td>[[0.1088, -0.21724, -0.55772, -0.15096, 0.0473...</td>\n",
       "      <td>[[0.1088, -0.21724, -0.55772, -0.15096, 0.0473...</td>\n",
       "    </tr>\n",
       "    <tr>\n",
       "      <th>9</th>\n",
       "      <td>[take, on]</td>\n",
       "      <td>K/K5/K52.xml</td>\n",
       "      <td>7</td>\n",
       "      <td>True</td>\n",
       "      <td>1.0000</td>\n",
       "      <td>[21, 22]</td>\n",
       "      <td>[One, of, the, keenest, tussles, will, be, in,...</td>\n",
       "      <td>take on</td>\n",
       "      <td>One of the keenest tussles will be in the wome...</td>\n",
       "      <td>[0.04849784, 0.082029976, 0.010337902, 0.00278...</td>\n",
       "      <td>[0.10357339, 0.07464753, 0.027211359, 0.055828...</td>\n",
       "      <td>[[-0.05102539, 0.0041503906, 0.024902344, -0.0...</td>\n",
       "      <td>[[-0.02746582, 0.045898438, 0.34375, -0.090820...</td>\n",
       "      <td>[[-0.015879, 0.11807, -0.12769, -0.16302, -0.0...</td>\n",
       "      <td>[[-0.015879, 0.11807, -0.12769, -0.16302, -0.0...</td>\n",
       "    </tr>\n",
       "  </tbody>\n",
       "</table>\n",
       "</div>"
      ],
      "text/plain": [
       "       pvc_lemmas     file_path   row  is_phrasal  \\\n",
       "0      [take, on]  B/BN/BNN.xml   291        True   \n",
       "1      [give, in]  B/B1/B1E.xml   670       False   \n",
       "2   [take, after]  K/K3/K3E.xml    56       False   \n",
       "3      [get, out]  C/CK/CK9.xml  1654        True   \n",
       "4  [get, through]  G/G2/G2E.xml  2734        True   \n",
       "5      [give, in]  C/CL/CLP.xml   629       False   \n",
       "6       [get, on]  C/CB/CBG.xml  8098       False   \n",
       "7      [give, in]  C/CB/CB6.xml   334       False   \n",
       "8      [give, in]  C/CG/CG9.xml   625       False   \n",
       "9      [take, on]  K/K5/K52.xml     7        True   \n",
       "\n",
       "   annotator_agreement_percentage  verb_idx  \\\n",
       "0                          1.0000  [12, 13]   \n",
       "1                          0.7051  [15, 16]   \n",
       "2                          0.6733  [21, 22]   \n",
       "3                          1.0000  [19, 20]   \n",
       "4                          1.0000   [9, 10]   \n",
       "5                          0.6991    [7, 8]   \n",
       "6                          0.6915    [8, 9]   \n",
       "7                          0.6551    [4, 5]   \n",
       "8                          1.0000  [39, 40]   \n",
       "9                          1.0000  [21, 22]   \n",
       "\n",
       "                                               sents  pvc_strings  \\\n",
       "0  [At, about, the, same, time, the, aliens, depa...      take on   \n",
       "1  [Production, is, centred, in, the, Pacific, no...      give in   \n",
       "2  [By, Echo, reporter, CORONATION, Street, actre...   take after   \n",
       "3  [Mrs, Aggie, ,, I, do, want, to, go, to, a, sc...      get out   \n",
       "4  [He, was, charged, for, a, call, that, never, ...  get through   \n",
       "5  [An, illustration, of, a, flow, chart, is, giv...      give in   \n",
       "6  [In, the, minute, Philliskirk, netted, as, he,...       get on   \n",
       "7  [I, Jordan, de, Blossevilla, give, in, free, a...      give in   \n",
       "8  [Within, the, above, breakdown, one, can, sugg...      give in   \n",
       "9  [One, of, the, keenest, tussles, will, be, in,...      take on   \n",
       "\n",
       "                                        sent_strings  \\\n",
       "0  At about the same time the aliens department o...   \n",
       "1  Production is centred in the Pacific northwest...   \n",
       "2  By Echo reporter CORONATION Street actress Lyn...   \n",
       "3  Mrs Aggie , I do want to go to a school where ...   \n",
       "4  He was charged for a call that never got throu...   \n",
       "5  An illustration of a flow chart is given in Fi...   \n",
       "6  In the minute Philliskirk netted as he got on ...   \n",
       "7  I Jordan de Blossevilla give in free alms to G...   \n",
       "8  Within the above breakdown one can suggest the...   \n",
       "9  One of the keenest tussles will be in the wome...   \n",
       "\n",
       "                                     pv_infer_embeds  \\\n",
       "0  [0.04849784, 0.082029976, 0.010337902, 0.00278...   \n",
       "1  [0.06049606, 0.066955656, -0.0019042839, -0.05...   \n",
       "2  [0.04559154, 0.013943457, 0.013154965, -0.0398...   \n",
       "3  [0.04216131, -0.040760946, -0.071714684, -0.00...   \n",
       "4  [0.07250941, -0.0235534, -0.04305069, 0.039528...   \n",
       "5  [0.06049606, 0.066955656, -0.0019042839, -0.05...   \n",
       "6  [0.04557705, 0.045318495, -0.049521793, 0.0273...   \n",
       "7  [0.06049606, 0.066955656, -0.0019042839, -0.05...   \n",
       "8  [0.06049606, 0.066955656, -0.0019042839, -0.05...   \n",
       "9  [0.04849784, 0.082029976, 0.010337902, 0.00278...   \n",
       "\n",
       "                                   sent_infer_embeds  \\\n",
       "0  [0.12564819, 0.06340436, 0.055802934, 0.096010...   \n",
       "1  [0.07641017, 0.13320042, 0.008155916, 0.096234...   \n",
       "2  [0.116348945, 0.07574034, 0.013408521, 0.07490...   \n",
       "3  [0.08019499, 0.06795283, 0.053973824, 0.092289...   \n",
       "4  [0.07009956, 0.052870482, 0.08822129, 0.059288...   \n",
       "5  [0.09184964, 0.08700765, 0.14155161, 0.1168551...   \n",
       "6  [0.040870853, 0.052796114, 0.027287105, 0.0538...   \n",
       "7  [0.07994307, 0.07486074, 0.14933504, 0.1102134...   \n",
       "8  [0.09619153, 0.08128547, 0.09374884, 0.0985300...   \n",
       "9  [0.10357339, 0.07464753, 0.027211359, 0.055828...   \n",
       "\n",
       "                                        pv_w2v_embed  \\\n",
       "0  [[-0.05102539, 0.0041503906, 0.024902344, -0.0...   \n",
       "1  [[0.06201172, -0.122558594, 0.016845703, 0.086...   \n",
       "2  [[-0.05102539, 0.0041503906, 0.024902344, -0.0...   \n",
       "3  [[0.033203125, -0.08984375, -0.29492188, 0.115...   \n",
       "4  [[0.033203125, -0.08984375, -0.29492188, 0.115...   \n",
       "5  [[0.06201172, -0.122558594, 0.016845703, 0.086...   \n",
       "6  [[0.033203125, -0.08984375, -0.29492188, 0.115...   \n",
       "7  [[0.06201172, -0.122558594, 0.016845703, 0.086...   \n",
       "8  [[0.06201172, -0.122558594, 0.016845703, 0.086...   \n",
       "9  [[-0.05102539, 0.0041503906, 0.024902344, -0.0...   \n",
       "\n",
       "                                      sent_w2v_embed  \\\n",
       "0  [[-0.088378906, -0.011962891, 0.21484375, 0.05...   \n",
       "1  [[-0.027954102, -0.19042969, -0.02746582, -0.1...   \n",
       "2  [[-0.047851562, -0.29492188, 0.375, 0.359375, ...   \n",
       "3  [[0.23242188, -0.1875, -0.28125, -0.06542969, ...   \n",
       "4  [[-0.038085938, 0.34570312, 0.103027344, -0.03...   \n",
       "5  [[0.053710938, 0.4453125, 0.17675781, -0.17187...   \n",
       "6  [[0.032226562, 0.12207031, 0.22558594, -0.1289...   \n",
       "7  [[0.07910156, -0.0050354004, 0.111816406, 0.21...   \n",
       "8  [[-0.15722656, -0.23535156, 0.20996094, -0.070...   \n",
       "9  [[-0.02746582, 0.045898438, 0.34375, -0.090820...   \n",
       "\n",
       "                                      pv_glove_embed  \\\n",
       "0  [[-0.015879, 0.11807, -0.12769, -0.16302, -0.0...   \n",
       "1  [[0.1088, -0.21724, -0.55772, -0.15096, 0.0473...   \n",
       "2  [[-0.015879, 0.11807, -0.12769, -0.16302, -0.0...   \n",
       "3  [[-0.14124, -0.11836, -0.30782, 0.098416, 0.22...   \n",
       "4  [[-0.14124, -0.11836, -0.30782, 0.098416, 0.22...   \n",
       "5  [[0.1088, -0.21724, -0.55772, -0.15096, 0.0473...   \n",
       "6  [[-0.14124, -0.11836, -0.30782, 0.098416, 0.22...   \n",
       "7  [[0.1088, -0.21724, -0.55772, -0.15096, 0.0473...   \n",
       "8  [[0.1088, -0.21724, -0.55772, -0.15096, 0.0473...   \n",
       "9  [[-0.015879, 0.11807, -0.12769, -0.16302, -0.0...   \n",
       "\n",
       "                                    sent_glove_embed  \n",
       "0  [[-0.015879, 0.11807, -0.12769, -0.16302, -0.0...  \n",
       "1  [[0.1088, -0.21724, -0.55772, -0.15096, 0.0473...  \n",
       "2  [[-0.015879, 0.11807, -0.12769, -0.16302, -0.0...  \n",
       "3  [[-0.14124, -0.11836, -0.30782, 0.098416, 0.22...  \n",
       "4  [[-0.14124, -0.11836, -0.30782, 0.098416, 0.22...  \n",
       "5  [[0.1088, -0.21724, -0.55772, -0.15096, 0.0473...  \n",
       "6  [[-0.14124, -0.11836, -0.30782, 0.098416, 0.22...  \n",
       "7  [[0.1088, -0.21724, -0.55772, -0.15096, 0.0473...  \n",
       "8  [[0.1088, -0.21724, -0.55772, -0.15096, 0.0473...  \n",
       "9  [[-0.015879, 0.11807, -0.12769, -0.16302, -0.0...  "
      ]
     },
     "execution_count": 33,
     "metadata": {},
     "output_type": "execute_result"
    }
   ],
   "source": [
    "data.head(10)"
   ]
  },
  {
   "cell_type": "code",
   "execution_count": 34,
   "metadata": {},
   "outputs": [],
   "source": [
    "# Creating boolean for SVM to predict\n",
    "def phrasal_bool(string):\n",
    "    if string == True:\n",
    "        return 1\n",
    "    else:\n",
    "        return 0"
   ]
  },
  {
   "cell_type": "code",
   "execution_count": 35,
   "metadata": {},
   "outputs": [],
   "source": [
    "data['is_phrasal_bool'] = data['is_phrasal'].apply(phrasal_bool)"
   ]
  },
  {
   "cell_type": "code",
   "execution_count": 36,
   "metadata": {},
   "outputs": [
    {
     "data": {
      "text/html": [
       "<div>\n",
       "<style scoped>\n",
       "    .dataframe tbody tr th:only-of-type {\n",
       "        vertical-align: middle;\n",
       "    }\n",
       "\n",
       "    .dataframe tbody tr th {\n",
       "        vertical-align: top;\n",
       "    }\n",
       "\n",
       "    .dataframe thead th {\n",
       "        text-align: right;\n",
       "    }\n",
       "</style>\n",
       "<table border=\"1\" class=\"dataframe\">\n",
       "  <thead>\n",
       "    <tr style=\"text-align: right;\">\n",
       "      <th></th>\n",
       "      <th>pvc_lemmas</th>\n",
       "      <th>file_path</th>\n",
       "      <th>row</th>\n",
       "      <th>is_phrasal</th>\n",
       "      <th>annotator_agreement_percentage</th>\n",
       "      <th>verb_idx</th>\n",
       "      <th>sents</th>\n",
       "      <th>pvc_strings</th>\n",
       "      <th>sent_strings</th>\n",
       "      <th>pv_infer_embeds</th>\n",
       "      <th>sent_infer_embeds</th>\n",
       "      <th>pv_w2v_embed</th>\n",
       "      <th>sent_w2v_embed</th>\n",
       "      <th>pv_glove_embed</th>\n",
       "      <th>sent_glove_embed</th>\n",
       "      <th>is_phrasal_bool</th>\n",
       "    </tr>\n",
       "  </thead>\n",
       "  <tbody>\n",
       "    <tr>\n",
       "      <th>0</th>\n",
       "      <td>[take, on]</td>\n",
       "      <td>B/BN/BNN.xml</td>\n",
       "      <td>291</td>\n",
       "      <td>True</td>\n",
       "      <td>1.0000</td>\n",
       "      <td>[12, 13]</td>\n",
       "      <td>[At, about, the, same, time, the, aliens, depa...</td>\n",
       "      <td>take on</td>\n",
       "      <td>At about the same time the aliens department o...</td>\n",
       "      <td>[0.04849784, 0.082029976, 0.010337902, 0.00278...</td>\n",
       "      <td>[0.12564819, 0.06340436, 0.055802934, 0.096010...</td>\n",
       "      <td>[[-0.05102539, 0.0041503906, 0.024902344, -0.0...</td>\n",
       "      <td>[[-0.088378906, -0.011962891, 0.21484375, 0.05...</td>\n",
       "      <td>[[-0.015879, 0.11807, -0.12769, -0.16302, -0.0...</td>\n",
       "      <td>[[-0.015879, 0.11807, -0.12769, -0.16302, -0.0...</td>\n",
       "      <td>1</td>\n",
       "    </tr>\n",
       "    <tr>\n",
       "      <th>1</th>\n",
       "      <td>[give, in]</td>\n",
       "      <td>B/B1/B1E.xml</td>\n",
       "      <td>670</td>\n",
       "      <td>False</td>\n",
       "      <td>0.7051</td>\n",
       "      <td>[15, 16]</td>\n",
       "      <td>[Production, is, centred, in, the, Pacific, no...</td>\n",
       "      <td>give in</td>\n",
       "      <td>Production is centred in the Pacific northwest...</td>\n",
       "      <td>[0.06049606, 0.066955656, -0.0019042839, -0.05...</td>\n",
       "      <td>[0.07641017, 0.13320042, 0.008155916, 0.096234...</td>\n",
       "      <td>[[0.06201172, -0.122558594, 0.016845703, 0.086...</td>\n",
       "      <td>[[-0.027954102, -0.19042969, -0.02746582, -0.1...</td>\n",
       "      <td>[[0.1088, -0.21724, -0.55772, -0.15096, 0.0473...</td>\n",
       "      <td>[[0.1088, -0.21724, -0.55772, -0.15096, 0.0473...</td>\n",
       "      <td>0</td>\n",
       "    </tr>\n",
       "    <tr>\n",
       "      <th>2</th>\n",
       "      <td>[take, after]</td>\n",
       "      <td>K/K3/K3E.xml</td>\n",
       "      <td>56</td>\n",
       "      <td>False</td>\n",
       "      <td>0.6733</td>\n",
       "      <td>[21, 22]</td>\n",
       "      <td>[By, Echo, reporter, CORONATION, Street, actre...</td>\n",
       "      <td>take after</td>\n",
       "      <td>By Echo reporter CORONATION Street actress Lyn...</td>\n",
       "      <td>[0.04559154, 0.013943457, 0.013154965, -0.0398...</td>\n",
       "      <td>[0.116348945, 0.07574034, 0.013408521, 0.07490...</td>\n",
       "      <td>[[-0.05102539, 0.0041503906, 0.024902344, -0.0...</td>\n",
       "      <td>[[-0.047851562, -0.29492188, 0.375, 0.359375, ...</td>\n",
       "      <td>[[-0.015879, 0.11807, -0.12769, -0.16302, -0.0...</td>\n",
       "      <td>[[-0.015879, 0.11807, -0.12769, -0.16302, -0.0...</td>\n",
       "      <td>0</td>\n",
       "    </tr>\n",
       "    <tr>\n",
       "      <th>3</th>\n",
       "      <td>[get, out]</td>\n",
       "      <td>C/CK/CK9.xml</td>\n",
       "      <td>1654</td>\n",
       "      <td>True</td>\n",
       "      <td>1.0000</td>\n",
       "      <td>[19, 20]</td>\n",
       "      <td>[Mrs, Aggie, ,, I, do, want, to, go, to, a, sc...</td>\n",
       "      <td>get out</td>\n",
       "      <td>Mrs Aggie , I do want to go to a school where ...</td>\n",
       "      <td>[0.04216131, -0.040760946, -0.071714684, -0.00...</td>\n",
       "      <td>[0.08019499, 0.06795283, 0.053973824, 0.092289...</td>\n",
       "      <td>[[0.033203125, -0.08984375, -0.29492188, 0.115...</td>\n",
       "      <td>[[0.23242188, -0.1875, -0.28125, -0.06542969, ...</td>\n",
       "      <td>[[-0.14124, -0.11836, -0.30782, 0.098416, 0.22...</td>\n",
       "      <td>[[-0.14124, -0.11836, -0.30782, 0.098416, 0.22...</td>\n",
       "      <td>1</td>\n",
       "    </tr>\n",
       "    <tr>\n",
       "      <th>4</th>\n",
       "      <td>[get, through]</td>\n",
       "      <td>G/G2/G2E.xml</td>\n",
       "      <td>2734</td>\n",
       "      <td>True</td>\n",
       "      <td>1.0000</td>\n",
       "      <td>[9, 10]</td>\n",
       "      <td>[He, was, charged, for, a, call, that, never, ...</td>\n",
       "      <td>get through</td>\n",
       "      <td>He was charged for a call that never got throu...</td>\n",
       "      <td>[0.07250941, -0.0235534, -0.04305069, 0.039528...</td>\n",
       "      <td>[0.07009956, 0.052870482, 0.08822129, 0.059288...</td>\n",
       "      <td>[[0.033203125, -0.08984375, -0.29492188, 0.115...</td>\n",
       "      <td>[[-0.038085938, 0.34570312, 0.103027344, -0.03...</td>\n",
       "      <td>[[-0.14124, -0.11836, -0.30782, 0.098416, 0.22...</td>\n",
       "      <td>[[-0.14124, -0.11836, -0.30782, 0.098416, 0.22...</td>\n",
       "      <td>1</td>\n",
       "    </tr>\n",
       "  </tbody>\n",
       "</table>\n",
       "</div>"
      ],
      "text/plain": [
       "       pvc_lemmas     file_path   row  is_phrasal  \\\n",
       "0      [take, on]  B/BN/BNN.xml   291        True   \n",
       "1      [give, in]  B/B1/B1E.xml   670       False   \n",
       "2   [take, after]  K/K3/K3E.xml    56       False   \n",
       "3      [get, out]  C/CK/CK9.xml  1654        True   \n",
       "4  [get, through]  G/G2/G2E.xml  2734        True   \n",
       "\n",
       "   annotator_agreement_percentage  verb_idx  \\\n",
       "0                          1.0000  [12, 13]   \n",
       "1                          0.7051  [15, 16]   \n",
       "2                          0.6733  [21, 22]   \n",
       "3                          1.0000  [19, 20]   \n",
       "4                          1.0000   [9, 10]   \n",
       "\n",
       "                                               sents  pvc_strings  \\\n",
       "0  [At, about, the, same, time, the, aliens, depa...      take on   \n",
       "1  [Production, is, centred, in, the, Pacific, no...      give in   \n",
       "2  [By, Echo, reporter, CORONATION, Street, actre...   take after   \n",
       "3  [Mrs, Aggie, ,, I, do, want, to, go, to, a, sc...      get out   \n",
       "4  [He, was, charged, for, a, call, that, never, ...  get through   \n",
       "\n",
       "                                        sent_strings  \\\n",
       "0  At about the same time the aliens department o...   \n",
       "1  Production is centred in the Pacific northwest...   \n",
       "2  By Echo reporter CORONATION Street actress Lyn...   \n",
       "3  Mrs Aggie , I do want to go to a school where ...   \n",
       "4  He was charged for a call that never got throu...   \n",
       "\n",
       "                                     pv_infer_embeds  \\\n",
       "0  [0.04849784, 0.082029976, 0.010337902, 0.00278...   \n",
       "1  [0.06049606, 0.066955656, -0.0019042839, -0.05...   \n",
       "2  [0.04559154, 0.013943457, 0.013154965, -0.0398...   \n",
       "3  [0.04216131, -0.040760946, -0.071714684, -0.00...   \n",
       "4  [0.07250941, -0.0235534, -0.04305069, 0.039528...   \n",
       "\n",
       "                                   sent_infer_embeds  \\\n",
       "0  [0.12564819, 0.06340436, 0.055802934, 0.096010...   \n",
       "1  [0.07641017, 0.13320042, 0.008155916, 0.096234...   \n",
       "2  [0.116348945, 0.07574034, 0.013408521, 0.07490...   \n",
       "3  [0.08019499, 0.06795283, 0.053973824, 0.092289...   \n",
       "4  [0.07009956, 0.052870482, 0.08822129, 0.059288...   \n",
       "\n",
       "                                        pv_w2v_embed  \\\n",
       "0  [[-0.05102539, 0.0041503906, 0.024902344, -0.0...   \n",
       "1  [[0.06201172, -0.122558594, 0.016845703, 0.086...   \n",
       "2  [[-0.05102539, 0.0041503906, 0.024902344, -0.0...   \n",
       "3  [[0.033203125, -0.08984375, -0.29492188, 0.115...   \n",
       "4  [[0.033203125, -0.08984375, -0.29492188, 0.115...   \n",
       "\n",
       "                                      sent_w2v_embed  \\\n",
       "0  [[-0.088378906, -0.011962891, 0.21484375, 0.05...   \n",
       "1  [[-0.027954102, -0.19042969, -0.02746582, -0.1...   \n",
       "2  [[-0.047851562, -0.29492188, 0.375, 0.359375, ...   \n",
       "3  [[0.23242188, -0.1875, -0.28125, -0.06542969, ...   \n",
       "4  [[-0.038085938, 0.34570312, 0.103027344, -0.03...   \n",
       "\n",
       "                                      pv_glove_embed  \\\n",
       "0  [[-0.015879, 0.11807, -0.12769, -0.16302, -0.0...   \n",
       "1  [[0.1088, -0.21724, -0.55772, -0.15096, 0.0473...   \n",
       "2  [[-0.015879, 0.11807, -0.12769, -0.16302, -0.0...   \n",
       "3  [[-0.14124, -0.11836, -0.30782, 0.098416, 0.22...   \n",
       "4  [[-0.14124, -0.11836, -0.30782, 0.098416, 0.22...   \n",
       "\n",
       "                                    sent_glove_embed  is_phrasal_bool  \n",
       "0  [[-0.015879, 0.11807, -0.12769, -0.16302, -0.0...                1  \n",
       "1  [[0.1088, -0.21724, -0.55772, -0.15096, 0.0473...                0  \n",
       "2  [[-0.015879, 0.11807, -0.12769, -0.16302, -0.0...                0  \n",
       "3  [[-0.14124, -0.11836, -0.30782, 0.098416, 0.22...                1  \n",
       "4  [[-0.14124, -0.11836, -0.30782, 0.098416, 0.22...                1  "
      ]
     },
     "execution_count": 36,
     "metadata": {},
     "output_type": "execute_result"
    }
   ],
   "source": [
    "data.head()"
   ]
  },
  {
   "cell_type": "markdown",
   "metadata": {},
   "source": [
    "We are now ready to train our classifiers! We will first train a classifier on all the sentence embeddings:"
   ]
  },
  {
   "cell_type": "code",
   "execution_count": 37,
   "metadata": {},
   "outputs": [
    {
     "name": "stdout",
     "output_type": "stream",
     "text": [
      "0.71 accuracy with a standard deviation of 0.02\n"
     ]
    }
   ],
   "source": [
    "# Sent InferSent Embedding classifier\n",
    "sent_infer_clf = SVC(kernel='linear', C=1, random_state=42)\n",
    "sent_infer_scores = cross_val_score(sent_infer_clf, list(data['sent_infer_embeds']), list(data['is_phrasal_bool']), cv=5)\n",
    "print(\"%0.2f accuracy with a standard deviation of %0.2f\" % (sent_infer_scores.mean(), sent_infer_scores.std()))"
   ]
  },
  {
   "cell_type": "code",
   "execution_count": 38,
   "metadata": {},
   "outputs": [
    {
     "name": "stdout",
     "output_type": "stream",
     "text": [
      "0.74 accuracy with a standard deviation of 0.02\n"
     ]
    }
   ],
   "source": [
    "# PV InferSent Embedding classifier\n",
    "pv_infer_clf = SVC(kernel='linear', C=1, random_state=42)\n",
    "pv_infer_scores = cross_val_score(pv_infer_clf, list(data['pv_infer_embeds']), list(data['is_phrasal_bool']), cv=5)\n",
    "print(\"%0.2f accuracy with a standard deviation of %0.2f\" % (pv_infer_scores.mean(), pv_infer_scores.std()))"
   ]
  },
  {
   "cell_type": "markdown",
   "metadata": {},
   "source": [
    "Not too bad! That's pretty comparable to the paper.\n",
    "\n",
    "Next, we'll break our data into compositional or idiomatic structures (as determined in the original paper). Here are the splits:"
   ]
  },
  {
   "cell_type": "code",
   "execution_count": 39,
   "metadata": {},
   "outputs": [],
   "source": [
    "# Breaking it down\n",
    "idiomatic = set(['get onto', 'get through', 'get together', 'get on with', \n",
    "                 'get down to', 'get by', 'get off', 'get behind', 'take on', 'get over', 'make out'])\n",
    "compositional = set(['get at', 'get on', 'take after', 'do up', 'get out', 'do good', \n",
    "                     'make for', 'get it on', 'get about', 'make over', 'give in', 'have on'])"
   ]
  },
  {
   "cell_type": "code",
   "execution_count": 40,
   "metadata": {},
   "outputs": [],
   "source": [
    "def get_pv_type(string):\n",
    "    if string in compositional:\n",
    "        return 'comp'\n",
    "    else:\n",
    "        return 'idiom'"
   ]
  },
  {
   "cell_type": "code",
   "execution_count": 41,
   "metadata": {},
   "outputs": [],
   "source": [
    "data['type'] = data['pvc_strings'].apply(get_pv_type)"
   ]
  },
  {
   "cell_type": "markdown",
   "metadata": {},
   "source": [
    "What does the split of data look like?"
   ]
  },
  {
   "cell_type": "code",
   "execution_count": 42,
   "metadata": {},
   "outputs": [
    {
     "data": {
      "text/plain": [
       "comp     753\n",
       "idiom    510\n",
       "Name: type, dtype: int64"
      ]
     },
     "execution_count": 42,
     "metadata": {},
     "output_type": "execute_result"
    }
   ],
   "source": [
    "data['type'].value_counts()"
   ]
  },
  {
   "cell_type": "markdown",
   "metadata": {},
   "source": [
    "So we have more compositional phrasal verbs than idiomatic ones. \n",
    "\n",
    "Let's see how things look:"
   ]
  },
  {
   "cell_type": "code",
   "execution_count": 43,
   "metadata": {},
   "outputs": [],
   "source": [
    "data_comp = data[data['type'] == 'comp']\n",
    "data_idiom = data[data['type'] == 'idiom']"
   ]
  },
  {
   "cell_type": "code",
   "execution_count": 44,
   "metadata": {},
   "outputs": [
    {
     "name": "stdout",
     "output_type": "stream",
     "text": [
      "0.65 accuracy with a standard deviation of 0.04\n"
     ]
    }
   ],
   "source": [
    "# Compositional Sent InferSent Embedding classifier\n",
    "comp_infer_clf = SVC(kernel='linear', C=1, random_state=42)\n",
    "pv_infer_scores = cross_val_score(comp_infer_clf, list(data_comp['sent_infer_embeds']), list(data_comp['is_phrasal_bool']), cv=5)\n",
    "print(\"%0.2f accuracy with a standard deviation of %0.2f\" % (pv_infer_scores.mean(), pv_infer_scores.std()))"
   ]
  },
  {
   "cell_type": "code",
   "execution_count": 45,
   "metadata": {},
   "outputs": [
    {
     "name": "stdout",
     "output_type": "stream",
     "text": [
      "0.89 accuracy with a standard deviation of 0.01\n"
     ]
    }
   ],
   "source": [
    "# Idiomatic Sent InferSent Embedding classifier\n",
    "idiom_infer_clf = SVC(kernel='linear', C=1, random_state=42)\n",
    "pv_infer_scores = cross_val_score(idiom_infer_clf, list(data_idiom['sent_infer_embeds']), list(data_idiom['is_phrasal_bool']), cv=5)\n",
    "print(\"%0.2f accuracy with a standard deviation of %0.2f\" % (pv_infer_scores.mean(), pv_infer_scores.std()))"
   ]
  },
  {
   "cell_type": "markdown",
   "metadata": {},
   "source": [
    "So, we see that the classifier is better at predicting idiomatic phrasal verbs over compositional ones! Interesting point...\n",
    "\n",
    "For now, we'll save the discussion of all these results for the homework submission (which will be uploaded in the docs/folder). Now -- let's plot!"
   ]
  },
  {
   "cell_type": "code",
   "execution_count": 46,
   "metadata": {},
   "outputs": [],
   "source": [
    "import seaborn as sns\n",
    "sns.set(rc={'figure.figsize':(12,8)})\n",
    "sns.set(font_scale=1.5)"
   ]
  },
  {
   "cell_type": "code",
   "execution_count": 47,
   "metadata": {},
   "outputs": [],
   "source": [
    "types = ['Overall', 'Overall', 'Overall', 'Compositional', 'Compositional', 'Compositional', 'Idiomatic', 'Idiomatic', 'Idiomatic']\n",
    "subtypes = ['Original Baseline', 'Original Classifier', 'InferSent Classifier']*3\n",
    "accuracies = [0.65, 0.78, 0.71, 0.46, 0.70, 0.65, 0.91, 0.91, 0.89]"
   ]
  },
  {
   "cell_type": "code",
   "execution_count": 48,
   "metadata": {},
   "outputs": [],
   "source": [
    "master_df = pd.DataFrame()\n",
    "master_df['types'] = types\n",
    "master_df['subtypes'] = subtypes\n",
    "master_df['accuracies'] = accuracies"
   ]
  },
  {
   "cell_type": "code",
   "execution_count": 49,
   "metadata": {},
   "outputs": [
    {
     "data": {
      "image/png": "[encoded data removed]",
      "text/plain": [
       "<Figure size 864x576 with 1 Axes>"
      ]
     },
     "metadata": {},
     "output_type": "display_data"
    }
   ],
   "source": [
    "barplot = sns.barplot(data=master_df, x=\"types\", y=\"accuracies\", hue=subtypes)\n",
    "barplot.set(ylim=(0,1))\n",
    "barplot.set(title='HW4 Replication Study', xlabel='Type of PVC Trained On', ylabel='Accuracy')\n",
    "barplot.figure.savefig('hw4_replication.png')"
   ]
  },
  {
   "cell_type": "code",
   "execution_count": null,
   "metadata": {},
   "outputs": [],
   "source": []
  }
 ],
 "metadata": {
  "kernelspec": {
   "display_name": "Python 3",
   "language": "python",
   "name": "python3"
  },
  "language_info": {
   "codemirror_mode": {
    "name": "ipython",
    "version": 3
   },
   "file_extension": ".py",
   "mimetype": "text/x-python",
   "name": "python",
   "nbconvert_exporter": "python",
   "pygments_lexer": "ipython3",
   "version": "3.8.3"
  },
  "vscode": {
   "interpreter": {
    "hash": "3beb3a7e2c76c50ac9a52af5a4e81b8f4ab148094bec6a90da73f5453ca70174"
   }
  }
 },
 "nbformat": 4,
 "nbformat_minor": 4
}
