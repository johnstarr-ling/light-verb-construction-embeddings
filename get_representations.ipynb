{
 "cells": [
  {
   "attachments": {},
   "cell_type": "markdown",
   "metadata": {},
   "source": [
    "## Getting Representations for Phrasal VERBS\n",
    "In this notebook, I generate all the necessary embeddings for each element of the phrasal verb:\n",
    "\n",
    "1. the whole phrasal verb\n",
    "2. the verb only\n",
    "3. all non-verb elements in the phrasal verb\n",
    "\n",
    "This notebook ~28 minutes to run (currently)."
   ]
  },
  {
   "cell_type": "code",
   "execution_count": 1,
   "metadata": {},
   "outputs": [
    {
     "name": "stderr",
     "output_type": "stream",
     "text": [
      "c:\\Users\\johns\\Anaconda3\\envs\\py310\\lib\\site-packages\\tqdm\\auto.py:22: TqdmWarning: IProgress not found. Please update jupyter and ipywidgets. See https://ipywidgets.readthedocs.io/en/stable/user_install.html\n",
      "  from .autonotebook import tqdm as notebook_tqdm\n"
     ]
    }
   ],
   "source": [
    "import numpy as np\n",
    "import pandas as pd\n",
    "import pickle\n",
    "from miniconsbatched import generate_representations\n",
    "\n",
    "from minicons import cwe"
   ]
  },
  {
   "cell_type": "code",
   "execution_count": 2,
   "metadata": {},
   "outputs": [],
   "source": [
    "# Import data\n",
    "data = pd.read_csv('data/pvc_data.csv')"
   ]
  },
  {
   "cell_type": "code",
   "execution_count": 3,
   "metadata": {},
   "outputs": [],
   "source": [
    "# Isolating verbs and non-verb elements\n",
    "data['verb_string_only'] = data['verbs_fixed'].apply(lambda x: eval(x)[0])\n",
    "data['non_verbs_only'] = data['verbs_fixed'].apply(lambda x: ' '.join(eval(x)[1:]))"
   ]
  },
  {
   "attachments": {},
   "cell_type": "markdown",
   "metadata": {},
   "source": [
    "## Getting Representations for Phrasal Verbs\n",
    "In this section, I get the BERT, GPT2, and RoBERTa representations for all of the phrasal verbs."
   ]
  },
  {
   "cell_type": "code",
   "execution_count": 4,
   "metadata": {},
   "outputs": [
    {
     "name": "stdout",
     "output_type": "stream",
     "text": [
      "########################################\n",
      "Running bert-base-cased for layer [0, 3, 6, 9, 12] !\n",
      "Run complete.\n",
      "\n"
     ]
    }
   ],
   "source": [
    "# Generate BERT Reps\n",
    "vectors_bert, pairs_bert = generate_representations(data['verb_string'], data['sent_string'], layer=[0,3,6,9,12])"
   ]
  },
  {
   "cell_type": "code",
   "execution_count": 6,
   "metadata": {},
   "outputs": [],
   "source": [
    "# Saving BERT Reps\n",
    "with open('bert_vectors_full.np', 'wb') as f:\n",
    "    np.save(f, vectors_bert)"
   ]
  },
  {
   "cell_type": "code",
   "execution_count": 7,
   "metadata": {},
   "outputs": [
    {
     "name": "stdout",
     "output_type": "stream",
     "text": [
      "########################################\n",
      "Running gpt2 for layer [0, 3, 6, 9, 12] !\n"
     ]
    },
    {
     "name": "stderr",
     "output_type": "stream",
     "text": [
      "Using pad_token, but it is not set yet.\n"
     ]
    },
    {
     "name": "stdout",
     "output_type": "stream",
     "text": [
      "Run complete.\n",
      "\n"
     ]
    }
   ],
   "source": [
    "# Generate GPT2 Reps\n",
    "vectors_gpt2, pairs_gpt2 = generate_representations(data['verb_string'], data['sent_string'], model='gpt2', layer=[0,3,6,9,12])"
   ]
  },
  {
   "cell_type": "code",
   "execution_count": 8,
   "metadata": {},
   "outputs": [],
   "source": [
    "# Saving GPT2 Reps\n",
    "with open('gpt_vectors_full.np', 'wb') as gpt:\n",
    "    np.save(gpt, vectors_gpt2)"
   ]
  },
  {
   "cell_type": "code",
   "execution_count": 9,
   "metadata": {},
   "outputs": [
    {
     "name": "stdout",
     "output_type": "stream",
     "text": [
      "########################################\n",
      "Running roberta-base for layer [0, 3, 6, 9, 12] !\n",
      "Run complete.\n",
      "\n"
     ]
    }
   ],
   "source": [
    "# Generate roberta Reps\n",
    "vectors_roberta, pairs_roberta = generate_representations(data['verb_string'], data['sent_string'], model='roberta-base', layer=[0,3,6,9,12])"
   ]
  },
  {
   "cell_type": "code",
   "execution_count": 10,
   "metadata": {},
   "outputs": [],
   "source": [
    "# Saving RoBERTa Reps\n",
    "with open('roberta_vectors_full.np', 'wb') as rob:\n",
    "    np.save(rob, vectors_roberta)"
   ]
  },
  {
   "attachments": {},
   "cell_type": "markdown",
   "metadata": {},
   "source": [
    "## Getting Representations for Verbs Only\n",
    "In this section, I get the BERT, GPT2, and RoBERTa representations for _only_ the verb in each phrasal verb:"
   ]
  },
  {
   "cell_type": "code",
   "execution_count": 11,
   "metadata": {},
   "outputs": [
    {
     "name": "stdout",
     "output_type": "stream",
     "text": [
      "########################################\n",
      "Running bert-base-cased for layer [0, 3, 6, 9, 12] !\n",
      "Run complete.\n",
      "\n"
     ]
    }
   ],
   "source": [
    "# Generate BERT Reps\n",
    "vectors_bert_verb, pairs_bert_verb = generate_representations(data['verb_string_only'], data['sent_string'], layer=[0,3,6,9,12])"
   ]
  },
  {
   "cell_type": "code",
   "execution_count": 12,
   "metadata": {},
   "outputs": [],
   "source": [
    "# Saving BERT Reps\n",
    "with open('bert_vectors_verb.np', 'wb') as bert_verb:\n",
    "    np.save(bert_verb, vectors_bert_verb)"
   ]
  },
  {
   "cell_type": "code",
   "execution_count": 13,
   "metadata": {},
   "outputs": [
    {
     "name": "stdout",
     "output_type": "stream",
     "text": [
      "########################################\n",
      "Running gpt2 for layer [0, 3, 6, 9, 12] !\n"
     ]
    },
    {
     "name": "stderr",
     "output_type": "stream",
     "text": [
      "Using pad_token, but it is not set yet.\n"
     ]
    },
    {
     "name": "stdout",
     "output_type": "stream",
     "text": [
      "Run complete.\n",
      "\n"
     ]
    }
   ],
   "source": [
    "# Generate GPT2 Reps\n",
    "vectors_gpt2_verb, pairs_gpt2_verb = generate_representations(data['verb_string_only'], data['sent_string'], model='gpt2', layer=[0,3,6,9,12])"
   ]
  },
  {
   "cell_type": "code",
   "execution_count": 14,
   "metadata": {},
   "outputs": [],
   "source": [
    "# Saving GPT2 Reps\n",
    "with open('gpt_vectors_verb.np', 'wb') as gpt_verb:\n",
    "    np.save(gpt_verb, vectors_gpt2_verb)"
   ]
  },
  {
   "cell_type": "code",
   "execution_count": 15,
   "metadata": {},
   "outputs": [
    {
     "name": "stdout",
     "output_type": "stream",
     "text": [
      "########################################\n",
      "Running roberta-base for layer [0, 3, 6, 9, 12] !\n",
      "Run complete.\n",
      "\n"
     ]
    }
   ],
   "source": [
    "# Generate RoBERTa Reps\n",
    "vectors_roberta_verb, pairs_roberta_verb = generate_representations(data['verb_string_only'], data['sent_string'], model='roberta-base', layer=[0,3,6,9,12])"
   ]
  },
  {
   "cell_type": "code",
   "execution_count": 16,
   "metadata": {},
   "outputs": [],
   "source": [
    "# Saving RoBERTa Reps\n",
    "with open('roberta_vectors_verb.np', 'wb') as rob_verb:\n",
    "    np.save(rob_verb, vectors_roberta_verb)"
   ]
  },
  {
   "attachments": {},
   "cell_type": "markdown",
   "metadata": {},
   "source": [
    "## Getting Representations for Non-Verbs Only\n",
    "In this section, I get the BERT, GPT2, and RoBERTa representations for everything _except_ the verb in each phrasal verb:"
   ]
  },
  {
   "cell_type": "code",
   "execution_count": 17,
   "metadata": {},
   "outputs": [
    {
     "name": "stdout",
     "output_type": "stream",
     "text": [
      "########################################\n",
      "Running bert-base-cased for layer [0, 3, 6, 9, 12] !\n",
      "Run complete.\n",
      "\n"
     ]
    }
   ],
   "source": [
    "# Generate BERT Reps\n",
    "vectors_bert_nonverb, pairs_bert_nonverb = generate_representations(data['non_verbs_only'], data['sent_string'], layer=[0,3,6,9,12])"
   ]
  },
  {
   "cell_type": "code",
   "execution_count": 18,
   "metadata": {},
   "outputs": [],
   "source": [
    "# Saving BERT Reps\n",
    "with open('bert_vectors_nonverb.np', 'wb') as bert_nonverb:\n",
    "    np.save(bert_nonverb, vectors_bert_nonverb)"
   ]
  },
  {
   "cell_type": "code",
   "execution_count": 19,
   "metadata": {},
   "outputs": [
    {
     "name": "stdout",
     "output_type": "stream",
     "text": [
      "########################################\n",
      "Running gpt2 for layer [0, 3, 6, 9, 12] !\n"
     ]
    },
    {
     "name": "stderr",
     "output_type": "stream",
     "text": [
      "Using pad_token, but it is not set yet.\n"
     ]
    },
    {
     "name": "stdout",
     "output_type": "stream",
     "text": [
      "Run complete.\n",
      "\n"
     ]
    }
   ],
   "source": [
    "# Generate GPT2 Reps\n",
    "vectors_gpt2_nonverb, pairs_gpt2_nonverb = generate_representations(data['non_verbs_only'], data['sent_string'], model='gpt2', layer=[0,3,6,9,12])"
   ]
  },
  {
   "cell_type": "code",
   "execution_count": 20,
   "metadata": {},
   "outputs": [],
   "source": [
    "# Saving GPT2 Reps\n",
    "with open('gpt_vectors_nonverb.np', 'wb') as gpt_nonverb:\n",
    "    np.save(gpt_nonverb, vectors_gpt2_nonverb)"
   ]
  },
  {
   "cell_type": "code",
   "execution_count": 21,
   "metadata": {},
   "outputs": [
    {
     "name": "stdout",
     "output_type": "stream",
     "text": [
      "########################################\n",
      "Running roberta-base for layer [0, 3, 6, 9, 12] !\n",
      "Run complete.\n",
      "\n"
     ]
    }
   ],
   "source": [
    "# Generate RoBERTa Reps\n",
    "vectors_roberta_nonverb, pairs_roberta_nonverb = generate_representations(data['non_verbs_only'], data['sent_string'], model='roberta-base', layer=[0,3,6,9,12])"
   ]
  },
  {
   "cell_type": "code",
   "execution_count": 22,
   "metadata": {},
   "outputs": [],
   "source": [
    "# Saving RoBERTa Reps\n",
    "with open('roberta_vectors_nonverb.np', 'wb') as rob_nonverb:\n",
    "    np.save(rob_nonverb, vectors_roberta_nonverb)"
   ]
  },
  {
   "attachments": {},
   "cell_type": "markdown",
   "metadata": {},
   "source": [
    "The following code loads in some of the representations:"
   ]
  },
  {
   "cell_type": "code",
   "execution_count": 23,
   "metadata": {},
   "outputs": [],
   "source": [
    "# RoBERTa Reps\n",
    "with open('roberta_vectors_nonverb.np', 'rb') as test_rob:\n",
    "    test_rob_loaded = np.load(test_rob)"
   ]
  }
 ],
 "metadata": {
  "kernelspec": {
   "display_name": "py310",
   "language": "python",
   "name": "python3"
  },
  "language_info": {
   "codemirror_mode": {
    "name": "ipython",
    "version": 3
   },
   "file_extension": ".py",
   "mimetype": "text/x-python",
   "name": "python",
   "nbconvert_exporter": "python",
   "pygments_lexer": "ipython3",
   "version": "3.10.8 | packaged by conda-forge | (main, Nov 22 2022, 08:16:33) [MSC v.1929 64 bit (AMD64)]"
  },
  "orig_nbformat": 4,
  "vscode": {
   "interpreter": {
    "hash": "99e36c4e7668e780a07345726bda8c16f8801d43d9a537c65be6dd0ae0350df0"
   }
  }
 },
 "nbformat": 4,
 "nbformat_minor": 2
}
